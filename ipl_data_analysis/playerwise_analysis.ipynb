{
 "cells": [
  {
   "cell_type": "code",
   "execution_count": 1,
   "id": "c9461e2b",
   "metadata": {},
   "outputs": [],
   "source": [
    "import pandas as pd\n",
    "import numpy as np\n",
    "import seaborn as sns\n",
    "import plotly.figure_factory as ff\n",
    "import plotly.express as px"
   ]
  },
  {
   "cell_type": "code",
   "execution_count": 2,
   "id": "c8622a58",
   "metadata": {},
   "outputs": [],
   "source": [
    "player_data = pd.read_csv('seasonwise/for_all_seasons_1.csv')"
   ]
  },
  {
   "cell_type": "code",
   "execution_count": 3,
   "id": "8830fba7",
   "metadata": {},
   "outputs": [
    {
     "data": {
      "text/html": [
       "<div>\n",
       "<style scoped>\n",
       "    .dataframe tbody tr th:only-of-type {\n",
       "        vertical-align: middle;\n",
       "    }\n",
       "\n",
       "    .dataframe tbody tr th {\n",
       "        vertical-align: top;\n",
       "    }\n",
       "\n",
       "    .dataframe thead th {\n",
       "        text-align: right;\n",
       "    }\n",
       "</style>\n",
       "<table border=\"1\" class=\"dataframe\">\n",
       "  <thead>\n",
       "    <tr style=\"text-align: right;\">\n",
       "      <th></th>\n",
       "      <th>Name</th>\n",
       "      <th>PlayerDOB</th>\n",
       "      <th>TotalRuns</th>\n",
       "      <th>Balls</th>\n",
       "      <th>StrikeRate</th>\n",
       "      <th>Fours</th>\n",
       "      <th>Sixes</th>\n",
       "      <th>Outs</th>\n",
       "      <th>NotOuts</th>\n",
       "      <th>FiftyPlusRuns</th>\n",
       "      <th>...</th>\n",
       "      <th>TeamName</th>\n",
       "      <th>Innings</th>\n",
       "      <th>Matches</th>\n",
       "      <th>Nationality</th>\n",
       "      <th>RightHandedBat</th>\n",
       "      <th>Year</th>\n",
       "      <th>Age</th>\n",
       "      <th>IsDismissed</th>\n",
       "      <th>BestBowlingWickets</th>\n",
       "      <th>BestBowlingRuns</th>\n",
       "    </tr>\n",
       "  </thead>\n",
       "  <tbody>\n",
       "    <tr>\n",
       "      <th>0</th>\n",
       "      <td>Shaun Marsh</td>\n",
       "      <td>9-7-1983</td>\n",
       "      <td>616</td>\n",
       "      <td>441.0</td>\n",
       "      <td>139.68</td>\n",
       "      <td>59.0</td>\n",
       "      <td>26.0</td>\n",
       "      <td>9.0</td>\n",
       "      <td>2.0</td>\n",
       "      <td>5.0</td>\n",
       "      <td>...</td>\n",
       "      <td>Punjab Kings</td>\n",
       "      <td>11.0</td>\n",
       "      <td>11.0</td>\n",
       "      <td>Overseas</td>\n",
       "      <td>False</td>\n",
       "      <td>2008</td>\n",
       "      <td>25</td>\n",
       "      <td>Dismissed</td>\n",
       "      <td>0</td>\n",
       "      <td>0</td>\n",
       "    </tr>\n",
       "    <tr>\n",
       "      <th>1</th>\n",
       "      <td>Gautam Gambhir</td>\n",
       "      <td>14-10-1981</td>\n",
       "      <td>534</td>\n",
       "      <td>379.0</td>\n",
       "      <td>140.89</td>\n",
       "      <td>68.0</td>\n",
       "      <td>8.0</td>\n",
       "      <td>13.0</td>\n",
       "      <td>1.0</td>\n",
       "      <td>5.0</td>\n",
       "      <td>...</td>\n",
       "      <td>Delhi Capitals</td>\n",
       "      <td>14.0</td>\n",
       "      <td>14.0</td>\n",
       "      <td>Indian</td>\n",
       "      <td>False</td>\n",
       "      <td>2008</td>\n",
       "      <td>27</td>\n",
       "      <td>Dismissed</td>\n",
       "      <td>0</td>\n",
       "      <td>0</td>\n",
       "    </tr>\n",
       "    <tr>\n",
       "      <th>2</th>\n",
       "      <td>Sanath Jayasuriya</td>\n",
       "      <td>30-6-1969</td>\n",
       "      <td>518</td>\n",
       "      <td>309.0</td>\n",
       "      <td>167.63</td>\n",
       "      <td>58.0</td>\n",
       "      <td>31.0</td>\n",
       "      <td>12.0</td>\n",
       "      <td>2.0</td>\n",
       "      <td>2.0</td>\n",
       "      <td>...</td>\n",
       "      <td>Mumbai Indians</td>\n",
       "      <td>14.0</td>\n",
       "      <td>14.0</td>\n",
       "      <td>Overseas</td>\n",
       "      <td>False</td>\n",
       "      <td>2008</td>\n",
       "      <td>39</td>\n",
       "      <td>Not Dismissed</td>\n",
       "      <td>3</td>\n",
       "      <td>14</td>\n",
       "    </tr>\n",
       "    <tr>\n",
       "      <th>3</th>\n",
       "      <td>Shane Watson</td>\n",
       "      <td>17-6-1981</td>\n",
       "      <td>472</td>\n",
       "      <td>311.0</td>\n",
       "      <td>151.76</td>\n",
       "      <td>47.0</td>\n",
       "      <td>19.0</td>\n",
       "      <td>10.0</td>\n",
       "      <td>5.0</td>\n",
       "      <td>4.0</td>\n",
       "      <td>...</td>\n",
       "      <td>Rajasthan Royals</td>\n",
       "      <td>15.0</td>\n",
       "      <td>15.0</td>\n",
       "      <td>Overseas</td>\n",
       "      <td>True</td>\n",
       "      <td>2008</td>\n",
       "      <td>27</td>\n",
       "      <td>Not Dismissed</td>\n",
       "      <td>4</td>\n",
       "      <td>29</td>\n",
       "    </tr>\n",
       "    <tr>\n",
       "      <th>4</th>\n",
       "      <td>Graeme Smith</td>\n",
       "      <td>1-2-1981</td>\n",
       "      <td>441</td>\n",
       "      <td>362.0</td>\n",
       "      <td>121.82</td>\n",
       "      <td>54.0</td>\n",
       "      <td>8.0</td>\n",
       "      <td>9.0</td>\n",
       "      <td>2.0</td>\n",
       "      <td>3.0</td>\n",
       "      <td>...</td>\n",
       "      <td>Rajasthan Royals</td>\n",
       "      <td>11.0</td>\n",
       "      <td>11.0</td>\n",
       "      <td>Overseas</td>\n",
       "      <td>False</td>\n",
       "      <td>2008</td>\n",
       "      <td>27</td>\n",
       "      <td>Dismissed</td>\n",
       "      <td>0</td>\n",
       "      <td>0</td>\n",
       "    </tr>\n",
       "  </tbody>\n",
       "</table>\n",
       "<p>5 rows × 39 columns</p>\n",
       "</div>"
      ],
      "text/plain": [
       "                Name   PlayerDOB  TotalRuns  Balls  StrikeRate  Fours  Sixes  \\\n",
       "0        Shaun Marsh    9-7-1983        616  441.0      139.68   59.0   26.0   \n",
       "1     Gautam Gambhir  14-10-1981        534  379.0      140.89   68.0    8.0   \n",
       "2  Sanath Jayasuriya   30-6-1969        518  309.0      167.63   58.0   31.0   \n",
       "3       Shane Watson   17-6-1981        472  311.0      151.76   47.0   19.0   \n",
       "4       Graeme Smith    1-2-1981        441  362.0      121.82   54.0    8.0   \n",
       "\n",
       "   Outs  NotOuts  FiftyPlusRuns  ...          TeamName  Innings Matches  \\\n",
       "0   9.0      2.0            5.0  ...      Punjab Kings     11.0    11.0   \n",
       "1  13.0      1.0            5.0  ...    Delhi Capitals     14.0    14.0   \n",
       "2  12.0      2.0            2.0  ...    Mumbai Indians     14.0    14.0   \n",
       "3  10.0      5.0            4.0  ...  Rajasthan Royals     15.0    15.0   \n",
       "4   9.0      2.0            3.0  ...  Rajasthan Royals     11.0    11.0   \n",
       "\n",
       "  Nationality RightHandedBat  Year  Age    IsDismissed  BestBowlingWickets  \\\n",
       "0    Overseas          False  2008   25      Dismissed                   0   \n",
       "1      Indian          False  2008   27      Dismissed                   0   \n",
       "2    Overseas          False  2008   39  Not Dismissed                   3   \n",
       "3    Overseas           True  2008   27  Not Dismissed                   4   \n",
       "4    Overseas          False  2008   27      Dismissed                   0   \n",
       "\n",
       "   BestBowlingRuns  \n",
       "0                0  \n",
       "1                0  \n",
       "2               14  \n",
       "3               29  \n",
       "4                0  \n",
       "\n",
       "[5 rows x 39 columns]"
      ]
     },
     "execution_count": 3,
     "metadata": {},
     "output_type": "execute_result"
    }
   ],
   "source": [
    "player_data.head()"
   ]
  },
  {
   "cell_type": "code",
   "execution_count": 5,
   "id": "1738ae26",
   "metadata": {
    "scrolled": false
   },
   "outputs": [
    {
     "data": {
      "text/plain": [
       "671"
      ]
     },
     "execution_count": 5,
     "metadata": {},
     "output_type": "execute_result"
    }
   ],
   "source": [
    "len(player_data['Name'].unique())"
   ]
  },
  {
   "cell_type": "code",
   "execution_count": 19,
   "id": "0be4772c",
   "metadata": {
    "scrolled": true
   },
   "outputs": [
    {
     "data": {
      "text/plain": [
       "['AB de Villiers',\n",
       " 'Aakash Chopra',\n",
       " 'Aaron Finch',\n",
       " 'Aavishkar Salvi',\n",
       " 'Abdul Basith',\n",
       " 'Abdul Samad',\n",
       " 'Abdur Razzak',\n",
       " 'Abhijeet Tomar',\n",
       " 'Abhimanyu Mithun',\n",
       " 'Abhinav Manohar',\n",
       " 'Abhinav Mukund',\n",
       " 'Abhishek Jhunjhunwala',\n",
       " 'Abhishek Nayar',\n",
       " 'Abhishek Raut',\n",
       " 'Abhishek Sharma',\n",
       " 'Abishek Porel',\n",
       " 'Abu Nechim',\n",
       " 'Adam Gilchrist',\n",
       " 'Adam Milne',\n",
       " 'Adam Voges',\n",
       " 'Adam Zampa',\n",
       " 'Adil Rashid',\n",
       " 'Aditya Dole',\n",
       " 'Aditya Tare',\n",
       " 'Adrian Barath',\n",
       " 'Aiden Blizzard',\n",
       " 'Aiden Markram',\n",
       " 'Ajantha Mendis',\n",
       " 'Ajinkya Rahane',\n",
       " 'Ajit Agarkar',\n",
       " 'Ajit Chandila',\n",
       " 'Akash Deep',\n",
       " 'Akash Madhwal',\n",
       " 'Akash Singh',\n",
       " 'Akeal Hosein',\n",
       " 'Akila Dananjaya',\n",
       " 'Akshath Reddy',\n",
       " 'Akshdeep Nath',\n",
       " 'Albie Morkel',\n",
       " 'Alex Carey',\n",
       " 'Alex Hales',\n",
       " 'Alfonso Thomas',\n",
       " 'Ali Murtaza',\n",
       " 'Alzarri Joseph',\n",
       " 'Alzarri Joseph ',\n",
       " 'Aman Khan',\n",
       " 'Ambati Rayudu',\n",
       " 'Amit Mishra',\n",
       " 'Amit Paunikar',\n",
       " 'Amit Singh',\n",
       " 'Amit Uniyal',\n",
       " 'Anand Rajan',\n",
       " 'Andre Nel',\n",
       " 'Andre Russell',\n",
       " 'Andrew Flintoff',\n",
       " 'Andrew McDonald',\n",
       " 'Andrew Symonds',\n",
       " 'Andrew Tye',\n",
       " 'Angelo Mathews',\n",
       " 'Anil Kumble',\n",
       " 'Anirudh Singh',\n",
       " 'Ankeet Chavan',\n",
       " 'Ankit Rajpoot',\n",
       " 'Ankit Sharma',\n",
       " 'Anmolpreet Singh',\n",
       " 'Anrich Nortje',\n",
       " 'Anuj Rawat',\n",
       " 'Anukul Roy',\n",
       " 'Anureet Singh',\n",
       " 'Anustup Majumdar',\n",
       " 'Arindam Ghosh',\n",
       " 'Arjun Tendulkar',\n",
       " 'Arjun Yadav',\n",
       " 'Arshad Khan',\n",
       " 'Arshdeep Singh',\n",
       " 'Arun Karthik',\n",
       " 'Asad Pathan',\n",
       " 'Ashish Nehra',\n",
       " 'Ashish Reddy',\n",
       " 'Ashley Noffke',\n",
       " 'Ashok Dinda',\n",
       " 'Ashok Menaria',\n",
       " 'Ashton Turner',\n",
       " 'Asif K M',\n",
       " 'Atharva Taide',\n",
       " 'Avesh Khan',\n",
       " 'Axar Patel',\n",
       " 'Ayush Badoni',\n",
       " 'Azhar Bilakhia',\n",
       " 'Azhar Mahmood',\n",
       " 'B Indrajith',\n",
       " 'Balachandra Akhil',\n",
       " 'Barinder Sran',\n",
       " 'Basil Thampi',\n",
       " 'Ben Cutting',\n",
       " 'Ben Dunk',\n",
       " 'Ben Hilfenhaus',\n",
       " 'Ben Laughlin',\n",
       " 'Ben Rohrer',\n",
       " 'Ben Stokes',\n",
       " 'Beuran Hendricks',\n",
       " 'Bhanuka Rajapaksa',\n",
       " 'Bharat Chipli',\n",
       " 'Bhargav Bhatt',\n",
       " 'Bhuvneshwar Kumar',\n",
       " 'Billy Stanlake',\n",
       " 'Biplap Samantray',\n",
       " 'Bipul Sharma',\n",
       " 'Bodapati Sumanth',\n",
       " 'Brad Haddin',\n",
       " 'Brad Hodge',\n",
       " 'Brad Hogg',\n",
       " 'Brendon McCullum',\n",
       " 'Brett Geeves',\n",
       " 'Brett Lee',\n",
       " 'Callum Ferguson',\n",
       " 'Cameron Green',\n",
       " 'Cameron White',\n",
       " 'Carlos Brathwaite',\n",
       " 'Chamara Kapugedera',\n",
       " 'Chaminda Vaas',\n",
       " 'Chandan Madan',\n",
       " 'Charl Langeveldt',\n",
       " 'Chetan Sakariya',\n",
       " 'Chetanya Nanda',\n",
       " 'Cheteshwar Pujara',\n",
       " 'Chidhambaram Gautam',\n",
       " 'Chris Gayle',\n",
       " 'Chris Jordan',\n",
       " 'Chris Lynn',\n",
       " 'Chris Morris',\n",
       " 'Chris Woakes',\n",
       " 'Clint McKay',\n",
       " 'Colin Ingram',\n",
       " 'Colin Munro',\n",
       " 'Colin de Grandhomme',\n",
       " 'Corey Anderson',\n",
       " \"D'Arcy Short\",\n",
       " 'Dale Steyn',\n",
       " 'Damien Martyn',\n",
       " 'Dan Christian',\n",
       " 'Daniel Harris',\n",
       " 'Daniel Sams',\n",
       " 'Daniel Vettori',\n",
       " 'Darren Lehmann',\n",
       " 'Darren Sammy',\n",
       " 'Darshan Nalkande',\n",
       " 'Daryl Mitchell',\n",
       " 'Dasun Shanaka',\n",
       " 'David Hussey',\n",
       " 'David Miller',\n",
       " 'David Warner',\n",
       " 'David Wiese',\n",
       " 'David Willey',\n",
       " 'Davy Jacobs',\n",
       " 'Dawid Malan',\n",
       " 'Debabrata Das',\n",
       " 'Deepak Chahar',\n",
       " 'Deepak Hooda',\n",
       " 'Devdutt Padikkal',\n",
       " 'Devon Conway',\n",
       " 'Devraj Patil',\n",
       " 'Dewald Brevis',\n",
       " 'Dhawal Kulkarni',\n",
       " 'Dhruv Jurel',\n",
       " 'Dhruv Shorey',\n",
       " 'Dilhara Fernando',\n",
       " 'Dillon du Preez',\n",
       " 'Dimitri Mascarenhas',\n",
       " 'Dinesh Karthik',\n",
       " 'Dinesh Salunkhe',\n",
       " 'Dirk Nannes',\n",
       " 'Dishant Yagnik',\n",
       " 'Doddapaneni Kalyankrishna',\n",
       " 'Dominic Thornely',\n",
       " 'Domnic Joseph',\n",
       " 'Doug Bollinger',\n",
       " 'Doug Bracewell',\n",
       " 'Duan Jansen',\n",
       " 'Dushmantha Chameera',\n",
       " 'Dwaine Pretorius',\n",
       " 'Dwaraka Ravi Teja',\n",
       " 'Dwayne Bravo',\n",
       " 'Dwayne Smith',\n",
       " 'Eklavya Dwivedi',\n",
       " 'Eoin Morgan',\n",
       " 'Evin Lewis',\n",
       " 'Fabian Allen',\n",
       " 'Faf Du Plessis',\n",
       " 'Faf du Plessis',\n",
       " 'Faiz Fazal',\n",
       " 'Farhaan Behardien',\n",
       " 'Fazalhaq Farooqi',\n",
       " 'Gajendra Singh',\n",
       " 'Gautam Gambhir',\n",
       " 'George Bailey',\n",
       " 'George Garton',\n",
       " 'Glenn Maxwell',\n",
       " 'Glenn McGrath',\n",
       " 'Glenn Phillips',\n",
       " 'Graeme Smith',\n",
       " 'Graham Napier',\n",
       " 'Gurinder Sandhu',\n",
       " 'Gurkeerat Mann Singh',\n",
       " 'Halhadar Das',\n",
       " 'Hanuma Vihari',\n",
       " 'Harbhajan Singh',\n",
       " 'Hardik Pandya',\n",
       " 'Hardus Viljoen',\n",
       " 'Harmeet Singh',\n",
       " 'Harmeet Singh Bansal',\n",
       " 'Harpreet Bhatia',\n",
       " 'Harpreet Brar',\n",
       " 'Harpreet Singh',\n",
       " 'Harry Brook',\n",
       " 'Harry Gurney',\n",
       " 'Harshal Patel',\n",
       " 'Harshit Rana',\n",
       " 'Hashim Amla',\n",
       " 'Heinrich Klaasen',\n",
       " 'Herschelle Gibbs',\n",
       " 'Hrithik Shokeen',\n",
       " 'Imran Tahir',\n",
       " 'Iqbal Abdulla',\n",
       " 'Irfan Pathan',\n",
       " 'Ish Sodhi',\n",
       " 'Ishan Kishan',\n",
       " 'Ishan Malhotra',\n",
       " 'Ishan Porel',\n",
       " 'Ishank Jaggi',\n",
       " 'Ishant Sharma',\n",
       " 'Ishwar Pandey',\n",
       " 'Isuru Udana',\n",
       " 'JM Kemp',\n",
       " 'JP Duminy',\n",
       " 'Jacob Oram',\n",
       " 'Jacques Kallis',\n",
       " 'Jagadeesan Narayan',\n",
       " 'Jagadeesh Arunkumar',\n",
       " 'Jagadeesha Suchith',\n",
       " 'James Faulkner',\n",
       " 'James Franklin',\n",
       " 'James Hopes',\n",
       " 'James Neesham',\n",
       " 'James Pattinson',\n",
       " 'Jaskaran Singh',\n",
       " 'Jason Behrendorff',\n",
       " 'Jason Holder',\n",
       " 'Jason Roy',\n",
       " 'Jasprit Bumrah',\n",
       " 'Javon Searles',\n",
       " 'Jayant Yadav',\n",
       " 'Jaydev Unadkat',\n",
       " 'Jeevan Mendis',\n",
       " 'Jesse Ryder',\n",
       " 'Jhye Richardson',\n",
       " 'Jimmy Neesham',\n",
       " 'Jitesh Sharma',\n",
       " 'Joe Denly',\n",
       " 'Joe Root',\n",
       " 'Jofra Archer',\n",
       " 'Joginder Sharma',\n",
       " 'Johan Botha',\n",
       " 'Johan van der Wath',\n",
       " 'John Hastings',\n",
       " 'Jonny Bairstow',\n",
       " 'Jos Buttler',\n",
       " 'Josh Hazlewood',\n",
       " 'Josh Little',\n",
       " 'Josh Philippe',\n",
       " 'Juan Theron',\n",
       " 'K L Rahul',\n",
       " 'K.S Bharat',\n",
       " 'KC Cariappa',\n",
       " 'KL Rahul',\n",
       " 'KM Asif',\n",
       " 'KP Appanna',\n",
       " 'Kagiso Rabada',\n",
       " 'Kamlesh Nagarkoti',\n",
       " 'Kamran Akmal',\n",
       " 'Kamran Khan',\n",
       " 'Kane Richardson',\n",
       " 'Kane Williamson',\n",
       " 'Karan Goel',\n",
       " 'Karan Sharma',\n",
       " 'Karanveer Singh',\n",
       " 'Karn Sharma',\n",
       " 'Kartik Tyagi',\n",
       " 'Karun Nair',\n",
       " 'Kedar Jadhav',\n",
       " 'Keemo Paul',\n",
       " 'Kemar Roach',\n",
       " 'Kevin Pietersen',\n",
       " 'Kevon Cooper',\n",
       " 'Khaleel Ahmed',\n",
       " 'Kieron Pollard',\n",
       " 'Krishmar Santokie',\n",
       " 'Krishnakant Upadhyay',\n",
       " 'Krishnappa Gowtham',\n",
       " 'Krunal Pandya',\n",
       " 'Kuldeep Sen',\n",
       " 'Kuldeep Yadav',\n",
       " 'Kuldip Yadav',\n",
       " 'Kulwant Khejroliya',\n",
       " 'Kumar Kartikeya Singh',\n",
       " 'Kumar Sangakkara',\n",
       " 'Kushal Janith Perera',\n",
       " 'Kyle Abbott',\n",
       " 'Kyle Jamieson',\n",
       " 'Kyle Mayers',\n",
       " 'LPC Silva',\n",
       " 'Lakshmipathy Balaji',\n",
       " 'Lalit Yadav',\n",
       " 'Lasith Malinga',\n",
       " 'Laxmi Ratan Shukla',\n",
       " 'Lee Carseldine',\n",
       " 'Lendl Simmons',\n",
       " 'Liam Livingstone',\n",
       " 'Liam Plunkett',\n",
       " 'Liton Das',\n",
       " 'Lockie Ferguson',\n",
       " 'Love Ablish',\n",
       " 'Luke Pomersbach',\n",
       " 'Luke Ronchi',\n",
       " 'Luke Wright',\n",
       " 'Lukman Meriwala',\n",
       " 'Lungi Ngidi ',\n",
       " 'MF Maharoof',\n",
       " 'MS Dhoni',\n",
       " 'Maheesh Theekshana',\n",
       " 'Mahela Jayawardena',\n",
       " 'Mahesh Rawat',\n",
       " 'Mahipal Lomror',\n",
       " 'Makhaya Ntini',\n",
       " 'Manan Vohra',\n",
       " 'Mandeep Singh',\n",
       " 'Manish Pandey',\n",
       " 'Manoj Tiwary',\n",
       " 'Manpreet Gony',\n",
       " 'Manpreet Juneja',\n",
       " 'Manvinder Bisla',\n",
       " 'Marchant de Lange',\n",
       " 'Marco Jansen',\n",
       " 'Marcus Stoinis',\n",
       " 'Mark Boucher',\n",
       " 'Mark Wood',\n",
       " 'Marlon Samuels',\n",
       " 'Martin Guptill',\n",
       " 'Mashrafe Mortaza',\n",
       " 'Matheesha Pathirana',\n",
       " 'Matthew Hayden',\n",
       " 'Matthew Short',\n",
       " 'Matthew Wade',\n",
       " 'Mayank Agarwal',\n",
       " 'Mayank Dagar',\n",
       " 'Mayank Markande',\n",
       " 'Michael Bracewell',\n",
       " 'Michael Clarke',\n",
       " 'Michael Hussey',\n",
       " 'Michael Klinger',\n",
       " 'Michael Lumb',\n",
       " 'Misbah-ul-Haq',\n",
       " 'Mitchell Johnson',\n",
       " 'Mitchell Marsh',\n",
       " 'Mitchell McClenaghan',\n",
       " 'Mitchell Santner',\n",
       " 'Mitchell Starc',\n",
       " 'Mithun Manhas',\n",
       " 'Moeen Ali',\n",
       " 'Mohammad Ashraful',\n",
       " 'Mohammad Asif',\n",
       " 'Mohammad Hafeez',\n",
       " 'Mohammad Kaif',\n",
       " 'Mohammad Nabi',\n",
       " 'Mohammad Shami',\n",
       " 'Mohammed Siraj',\n",
       " 'Mohit Rathee',\n",
       " 'Mohit Sharma',\n",
       " 'Mohnish Mishra',\n",
       " 'Mohsin Khan',\n",
       " 'Moises Henriques',\n",
       " 'Morne Morkel',\n",
       " 'Mujeeb Ur Rahman',\n",
       " 'Mukesh Choudhary',\n",
       " 'Mukesh Kumar',\n",
       " 'Munaf Patel',\n",
       " 'Murali Kartik',\n",
       " 'Murali Vijay',\n",
       " 'Murugan Ashwin',\n",
       " 'Musavir Khote',\n",
       " 'Mustafizur Rahman',\n",
       " 'Muttiah Muralitharan',\n",
       " 'Naman Ojha',\n",
       " 'Narayan Jagadeesan',\n",
       " 'Nathan Coulter-Nile',\n",
       " 'Nathan Ellis',\n",
       " 'Nathan McCullum',\n",
       " 'Navdeep Saini',\n",
       " 'Naveen-ul-Haq',\n",
       " 'Nayan Doshi',\n",
       " 'Nehal Wadera',\n",
       " 'Nic Maddinson',\n",
       " 'Nicholas Pooran',\n",
       " 'Nikhil Naik',\n",
       " 'Niraj Patel',\n",
       " 'Nitin Saini',\n",
       " 'Nitish Rana',\n",
       " 'Noor Ahmad',\n",
       " 'Nuwan Kulasekara',\n",
       " 'Nuwan Zoysa',\n",
       " 'Obed McCoy',\n",
       " 'Odean Smith',\n",
       " 'Oshane Thomas',\n",
       " 'Owais Shah',\n",
       " 'P Parameswaran',\n",
       " 'PM Sarvesh Kumar',\n",
       " 'Paidikalva Vijaykumar',\n",
       " 'Palani Amarnath',\n",
       " 'Pankaj Singh',\n",
       " 'Paras Dogra',\n",
       " 'Parthiv Patel',\n",
       " 'Parveez Rasool',\n",
       " 'Parvinder Awana',\n",
       " 'Pat Cummins',\n",
       " 'Paul Collingwood',\n",
       " 'Paul Valthaty',\n",
       " 'Pawan Negi',\n",
       " 'Pawan Suyal',\n",
       " 'Peter Handscomb',\n",
       " 'Phil Salt',\n",
       " 'Pinal Shah',\n",
       " 'Piyush Chawla',\n",
       " 'Prabhsimran Singh',\n",
       " 'Pradeep Sahu',\n",
       " 'Pradeep Sangwan',\n",
       " 'Pragyan Ojha',\n",
       " 'Prashant Chopra',\n",
       " 'Prashant Solanki',\n",
       " 'Prasidh Krishna',\n",
       " 'Praveen Dubey',\n",
       " 'Praveen Kumar',\n",
       " 'Pravin Dubey',\n",
       " 'Pravin Tambe',\n",
       " 'Prayas Ray Barman',\n",
       " 'Prerak Mankad',\n",
       " 'Prithvi Raj Yarra',\n",
       " 'Prithvi Shaw',\n",
       " 'Priyam Garg',\n",
       " 'Quinton De Kock',\n",
       " 'Quinton de Kock',\n",
       " 'RP Singh',\n",
       " 'Rahmanullah Gurbaz',\n",
       " 'Rahul Chahar',\n",
       " 'Rahul Dravid',\n",
       " 'Rahul Sharma',\n",
       " 'Rahul Shukla',\n",
       " 'Rahul Tewatia',\n",
       " 'Rahul Tripathi',\n",
       " 'Raiphi Gomez',\n",
       " 'Rajagopal Sathish',\n",
       " 'Rajangad Bawa',\n",
       " 'Rajat Bhatia',\n",
       " 'Rajat Patidar',\n",
       " 'Rajesh Bishnoi',\n",
       " 'Rajvardhan Hangargekar',\n",
       " 'Ramandeep Singh',\n",
       " 'Ramesh Powar',\n",
       " 'Ramnaresh Sarwan',\n",
       " 'Rashid Khan',\n",
       " 'Rasikh Salam',\n",
       " 'Rassie van der Dussen',\n",
       " 'Ravi Bishnoi',\n",
       " 'Ravi Bopara',\n",
       " 'Ravi Rampaul',\n",
       " 'Ravichandran Ashwin',\n",
       " 'Ravindra Jadeja',\n",
       " 'Reece Topley',\n",
       " 'Reetinder Sodhi',\n",
       " 'Richard Levi',\n",
       " 'Ricky Bhui',\n",
       " 'Ricky Ponting',\n",
       " 'Rilee Rossouw',\n",
       " 'Riley Meredith',\n",
       " 'Rinku Singh',\n",
       " 'Ripal Patel',\n",
       " 'Rishabh Pant',\n",
       " 'Rishi Dhawan',\n",
       " 'Riyan Parag',\n",
       " 'Rob Quiney',\n",
       " 'Robin Peterson',\n",
       " 'Robin Uthappa',\n",
       " 'Roelof van der Merwe',\n",
       " 'Rohan Gavaskar',\n",
       " 'Rohan Raje',\n",
       " 'Rohit Sharma',\n",
       " 'Romario Shepherd',\n",
       " 'Ronit More',\n",
       " 'Ross Taylor',\n",
       " 'Rovman Powell',\n",
       " 'Ruturaj  Gaikwad',\n",
       " 'Ruturaj Gaikwad',\n",
       " 'Ryan Harris',\n",
       " 'Ryan McLaren',\n",
       " 'Ryan Ninan',\n",
       " 'Ryan ten Doeschate',\n",
       " 'Sachin Baby',\n",
       " 'Sachin Rana',\n",
       " 'Sachin Tendulkar',\n",
       " 'Sachithra Senanayake',\n",
       " 'Sai Kishore',\n",
       " 'Sai Sudharsan',\n",
       " 'Salman Butt',\n",
       " 'Sam Billings',\n",
       " 'Sam Curran',\n",
       " 'Samuel Badree',\n",
       " 'Sanath Jayasuriya',\n",
       " 'Sandeep Lamichhane',\n",
       " 'Sandeep Sharma',\n",
       " 'Sandeep Warrier',\n",
       " 'Sanjay Bangar',\n",
       " 'Sanju Samson',\n",
       " 'Sanvir Singh',\n",
       " 'Sarabjit Ladda',\n",
       " 'Sarfaraz Khan',\n",
       " 'Saurabh Tiwary',\n",
       " 'Scott Boland',\n",
       " 'Scott Kuggeleijn',\n",
       " 'Scott Styris',\n",
       " 'Sean Abbott',\n",
       " 'Shadab Jakati',\n",
       " 'Shahbaz Ahmed',\n",
       " 'Shahbaz Nadeem',\n",
       " 'Shahid Afridi',\n",
       " 'Shahrukh Khan',\n",
       " 'Shakib Al Hasan',\n",
       " 'Shalabh Srivastava',\n",
       " 'Shane Bond',\n",
       " 'Shane Harwood',\n",
       " 'Shane Warne',\n",
       " 'Shane Watson',\n",
       " 'Shanthakumaran Sreesanth',\n",
       " 'Shardul Thakur',\n",
       " 'Shashank Singh',\n",
       " 'Shaun Marsh',\n",
       " 'Shaun Pollock',\n",
       " 'Shaun Tait',\n",
       " 'Sheldon Cottrell',\n",
       " 'Sheldon Jackson',\n",
       " 'Sherfane Rutherford',\n",
       " 'Shikhar Dhawan',\n",
       " 'Shimron Hetmyer',\n",
       " 'Shivam Dube',\n",
       " 'Shivam Mavi',\n",
       " 'Shivam Sharma',\n",
       " 'Shivil Kaushik',\n",
       " 'Shivnarine Chanderpaul',\n",
       " 'Shoaib Ahmed',\n",
       " 'Shoaib Akhtar',\n",
       " 'Shoaib Malik',\n",
       " 'Shoaib Shaikh',\n",
       " 'Shreevats Goswami',\n",
       " 'Shreyas Gopal',\n",
       " 'Shreyas Iyer',\n",
       " 'Shrikant Wagh',\n",
       " 'Shubman Gill',\n",
       " 'Siddarth Kaul',\n",
       " 'Siddharth Chitnis',\n",
       " 'Siddharth Trivedi',\n",
       " 'Siddhesh Lad',\n",
       " 'Sikandar Raza',\n",
       " 'Simarjeet Singh',\n",
       " 'Simon Katich',\n",
       " 'Simran Singh',\n",
       " 'Sisanda Magala',\n",
       " 'Sohail Tanvir',\n",
       " 'Sourav Ganguly',\n",
       " 'Sreenath Aravind',\n",
       " 'Sridharan Sriram',\n",
       " 'Srikar Bharat',\n",
       " 'Srikkanth Anirudha',\n",
       " 'Stephen Fleming',\n",
       " 'Steve Smith',\n",
       " 'Stuart Binny',\n",
       " 'Subramaniam Badrinath',\n",
       " 'Sudeep Tyagi',\n",
       " 'Sumit Narwal',\n",
       " 'Sunil Joshi',\n",
       " 'Sunil Narine',\n",
       " 'Sunny Singh',\n",
       " 'Sunny Sohal',\n",
       " 'Suraj Randiv',\n",
       " 'Suresh Raina',\n",
       " 'Suryakumar Yadav',\n",
       " 'Suyash S Prabhudessai',\n",
       " 'Suyash Sharma',\n",
       " 'Swapnil Asnodkar',\n",
       " 'Swapnil Singh',\n",
       " 'Syed Mohammad',\n",
       " 'T Natarajan',\n",
       " 'TP Sudhindra',\n",
       " 'Tabraiz Shamsi',\n",
       " 'Tanmay Srivastava',\n",
       " 'Taruwar Kohli',\n",
       " 'Tatenda Taibu',\n",
       " 'Thalaivan Sargunam',\n",
       " 'Thilan Thushara',\n",
       " 'Thisara Perera',\n",
       " 'Tilak Varma',\n",
       " 'Tillakaratne Dilshan',\n",
       " 'Tim David',\n",
       " 'Tim Paine',\n",
       " 'Tim Seifert',\n",
       " 'Tim Southee',\n",
       " 'Tirumalasetti Suman',\n",
       " 'Tom Banton',\n",
       " 'Tom Curran',\n",
       " 'Travis Birt',\n",
       " 'Travis Head',\n",
       " 'Trent Boult',\n",
       " 'Tristan Stubbs',\n",
       " 'Tushar Deshpande',\n",
       " 'Tymal Mills',\n",
       " 'Tyron Henderson',\n",
       " 'Udit Birla',\n",
       " 'Umar Gul',\n",
       " 'Umesh Yadav',\n",
       " 'Umran Malik',\n",
       " 'Unmukt Chand',\n",
       " 'Usman Khawaja',\n",
       " 'VVS Laxman',\n",
       " 'Vaibhav Arora',\n",
       " 'Varun Aaron',\n",
       " 'Varun Chakaravarthy',\n",
       " 'Veer Pratap Singh',\n",
       " 'Venkatesh Iyer',\n",
       " 'Venugopal Rao',\n",
       " 'Vidyut Sivaramakrishnan',\n",
       " 'Vijay Shankar',\n",
       " 'Vijay Zol',\n",
       " 'Vikram Singh',\n",
       " 'Vikramjeet Malik',\n",
       " 'Vikrant Yeligati',\n",
       " 'Vinay Kumar',\n",
       " 'Virat Kohli',\n",
       " 'Virat Singh',\n",
       " 'Virender Sehwag',\n",
       " 'Vishnu Vinod',\n",
       " 'Vivrant Sharma',\n",
       " 'Vyshak Vijaykumar',\n",
       " 'Wanindu Hasaranga',\n",
       " 'Washington Sundar',\n",
       " 'Wasim Jaffer',\n",
       " 'Wayne Parnell',\n",
       " 'Wilkin Mota',\n",
       " 'Wriddhiman Saha',\n",
       " 'Y Gnaneswara Rao',\n",
       " 'Yash Dayal',\n",
       " 'Yash Dhull',\n",
       " 'Yash Thakur',\n",
       " 'Yashasvi Jaiswal',\n",
       " 'Yashpal Singh',\n",
       " 'Yo Mahesh',\n",
       " 'Yogesh Nagar',\n",
       " 'Yogesh Takawale',\n",
       " 'Younis Khan',\n",
       " 'Yudhvir Singh',\n",
       " 'Yusuf Abdulla',\n",
       " 'Yusuf Pathan',\n",
       " 'Yuvraj Singh',\n",
       " 'Yuzvendra Chahal',\n",
       " 'Zaheer Khan']"
      ]
     },
     "execution_count": 19,
     "metadata": {},
     "output_type": "execute_result"
    }
   ],
   "source": [
    "sorted(player_data['Name'].unique())"
   ]
  },
  {
   "cell_type": "code",
   "execution_count": 108,
   "id": "c9d6cbaa",
   "metadata": {},
   "outputs": [],
   "source": [
    "name = 'MS Dhoni'"
   ]
  },
  {
   "cell_type": "code",
   "execution_count": 109,
   "id": "36afb709",
   "metadata": {},
   "outputs": [
    {
     "data": {
      "text/plain": [
       "array(['Chennai Super Kings', 'Rising Pune Supergiant'], dtype=object)"
      ]
     },
     "execution_count": 109,
     "metadata": {},
     "output_type": "execute_result"
    }
   ],
   "source": [
    "player_data[player_data['Name'] == name]['TeamName'].unique()"
   ]
  },
  {
   "cell_type": "code",
   "execution_count": 110,
   "id": "dc5f4bb6",
   "metadata": {},
   "outputs": [
    {
     "data": {
      "text/plain": [
       "24"
      ]
     },
     "execution_count": 110,
     "metadata": {},
     "output_type": "execute_result"
    }
   ],
   "source": [
    "player_data[player_data['Name'] == name]['FiftyPlusRuns'].astype(int).sum()"
   ]
  },
  {
   "cell_type": "code",
   "execution_count": 111,
   "id": "35c5e984",
   "metadata": {},
   "outputs": [
    {
     "data": {
      "text/plain": [
       "0"
      ]
     },
     "execution_count": 111,
     "metadata": {},
     "output_type": "execute_result"
    }
   ],
   "source": [
    "player_data[player_data['Name'] == name]['Centuries'].astype(int).sum()"
   ]
  },
  {
   "cell_type": "code",
   "execution_count": 112,
   "id": "6c8c0be4",
   "metadata": {
    "scrolled": true
   },
   "outputs": [
    {
     "data": {
      "text/plain": [
       "0"
      ]
     },
     "execution_count": 112,
     "metadata": {},
     "output_type": "execute_result"
    }
   ],
   "source": [
    "player_data[player_data['Name'] == name]['FiveWickets'].astype(int).sum()"
   ]
  },
  {
   "cell_type": "code",
   "execution_count": 113,
   "id": "ee6c1b4e",
   "metadata": {
    "scrolled": true
   },
   "outputs": [
    {
     "data": {
      "text/plain": [
       "0"
      ]
     },
     "execution_count": 113,
     "metadata": {},
     "output_type": "execute_result"
    }
   ],
   "source": [
    "player_data[player_data['Name'] == name]['FourWickets'].astype(int).sum()"
   ]
  },
  {
   "cell_type": "code",
   "execution_count": 43,
   "id": "39097998",
   "metadata": {},
   "outputs": [],
   "source": [
    "best_bat = player_data[player_data['Name'] == name][['HighestScore','IsDismissed']].max()"
   ]
  },
  {
   "cell_type": "code",
   "execution_count": 46,
   "id": "bb3c48d2",
   "metadata": {},
   "outputs": [],
   "source": [
    "f = lambda x: '*' if x == 'Not Dismissed' else ''"
   ]
  },
  {
   "cell_type": "code",
   "execution_count": 48,
   "id": "9acb181c",
   "metadata": {
    "scrolled": false
   },
   "outputs": [
    {
     "data": {
      "text/plain": [
       "'62*'"
      ]
     },
     "execution_count": 48,
     "metadata": {},
     "output_type": "execute_result"
    }
   ],
   "source": [
    "str(best_bat.loc['HighestScore']) + f(best_bat.loc['IsDismissed'])"
   ]
  },
  {
   "cell_type": "code",
   "execution_count": 21,
   "id": "647ce4b9",
   "metadata": {},
   "outputs": [
    {
     "data": {
      "text/html": [
       "<div>\n",
       "<style scoped>\n",
       "    .dataframe tbody tr th:only-of-type {\n",
       "        vertical-align: middle;\n",
       "    }\n",
       "\n",
       "    .dataframe tbody tr th {\n",
       "        vertical-align: top;\n",
       "    }\n",
       "\n",
       "    .dataframe thead th {\n",
       "        text-align: right;\n",
       "    }\n",
       "</style>\n",
       "<table border=\"1\" class=\"dataframe\">\n",
       "  <thead>\n",
       "    <tr style=\"text-align: right;\">\n",
       "      <th></th>\n",
       "      <th>Year</th>\n",
       "      <th>TotalRuns</th>\n",
       "    </tr>\n",
       "  </thead>\n",
       "  <tbody>\n",
       "    <tr>\n",
       "      <th>47</th>\n",
       "      <td>2008</td>\n",
       "      <td>135</td>\n",
       "    </tr>\n",
       "    <tr>\n",
       "      <th>170</th>\n",
       "      <td>2009</td>\n",
       "      <td>295</td>\n",
       "    </tr>\n",
       "    <tr>\n",
       "      <th>492</th>\n",
       "      <td>2011</td>\n",
       "      <td>283</td>\n",
       "    </tr>\n",
       "    <tr>\n",
       "      <th>696</th>\n",
       "      <td>2012</td>\n",
       "      <td>191</td>\n",
       "    </tr>\n",
       "    <tr>\n",
       "      <th>862</th>\n",
       "      <td>2013</td>\n",
       "      <td>201</td>\n",
       "    </tr>\n",
       "    <tr>\n",
       "      <th>1056</th>\n",
       "      <td>2014</td>\n",
       "      <td>146</td>\n",
       "    </tr>\n",
       "    <tr>\n",
       "      <th>1204</th>\n",
       "      <td>2015</td>\n",
       "      <td>132</td>\n",
       "    </tr>\n",
       "    <tr>\n",
       "      <th>1343</th>\n",
       "      <td>2016</td>\n",
       "      <td>132</td>\n",
       "    </tr>\n",
       "    <tr>\n",
       "      <th>1467</th>\n",
       "      <td>2017</td>\n",
       "      <td>191</td>\n",
       "    </tr>\n",
       "    <tr>\n",
       "      <th>1642</th>\n",
       "      <td>2018</td>\n",
       "      <td>89</td>\n",
       "    </tr>\n",
       "    <tr>\n",
       "      <th>1781</th>\n",
       "      <td>2019</td>\n",
       "      <td>106</td>\n",
       "    </tr>\n",
       "    <tr>\n",
       "      <th>1925</th>\n",
       "      <td>2020</td>\n",
       "      <td>232</td>\n",
       "    </tr>\n",
       "    <tr>\n",
       "      <th>2066</th>\n",
       "      <td>2021</td>\n",
       "      <td>227</td>\n",
       "    </tr>\n",
       "    <tr>\n",
       "      <th>2266</th>\n",
       "      <td>2022</td>\n",
       "      <td>116</td>\n",
       "    </tr>\n",
       "    <tr>\n",
       "      <th>2434</th>\n",
       "      <td>2023</td>\n",
       "      <td>190</td>\n",
       "    </tr>\n",
       "  </tbody>\n",
       "</table>\n",
       "</div>"
      ],
      "text/plain": [
       "      Year  TotalRuns\n",
       "47    2008        135\n",
       "170   2009        295\n",
       "492   2011        283\n",
       "696   2012        191\n",
       "862   2013        201\n",
       "1056  2014        146\n",
       "1204  2015        132\n",
       "1343  2016        132\n",
       "1467  2017        191\n",
       "1642  2018         89\n",
       "1781  2019        106\n",
       "1925  2020        232\n",
       "2066  2021        227\n",
       "2266  2022        116\n",
       "2434  2023        190"
      ]
     },
     "execution_count": 21,
     "metadata": {},
     "output_type": "execute_result"
    }
   ],
   "source": [
    "runs = player_data[player_data['Name'] == name][['Year','TotalRuns']]\n",
    "runs"
   ]
  },
  {
   "cell_type": "code",
   "execution_count": 22,
   "id": "e49f70ed",
   "metadata": {},
   "outputs": [
    {
     "data": {
      "application/vnd.plotly.v1+json": {
       "config": {
        "plotlyServerURL": "https://plot.ly"
       },
       "data": [
        {
         "hovertemplate": "Year=%{x}<br>TotalRuns=%{y}<extra></extra>",
         "legendgroup": "",
         "line": {
          "color": "#636efa",
          "dash": "solid"
         },
         "marker": {
          "symbol": "circle"
         },
         "mode": "lines+markers",
         "name": "",
         "orientation": "v",
         "showlegend": false,
         "type": "scatter",
         "x": [
          2008,
          2009,
          2011,
          2012,
          2013,
          2014,
          2015,
          2016,
          2017,
          2018,
          2019,
          2020,
          2021,
          2022,
          2023
         ],
         "xaxis": "x",
         "y": [
          135,
          295,
          283,
          191,
          201,
          146,
          132,
          132,
          191,
          89,
          106,
          232,
          227,
          116,
          190
         ],
         "yaxis": "y"
        }
       ],
       "layout": {
        "legend": {
         "tracegroupgap": 0
        },
        "margin": {
         "t": 60
        },
        "template": {
         "data": {
          "bar": [
           {
            "error_x": {
             "color": "#2a3f5f"
            },
            "error_y": {
             "color": "#2a3f5f"
            },
            "marker": {
             "line": {
              "color": "#E5ECF6",
              "width": 0.5
             },
             "pattern": {
              "fillmode": "overlay",
              "size": 10,
              "solidity": 0.2
             }
            },
            "type": "bar"
           }
          ],
          "barpolar": [
           {
            "marker": {
             "line": {
              "color": "#E5ECF6",
              "width": 0.5
             },
             "pattern": {
              "fillmode": "overlay",
              "size": 10,
              "solidity": 0.2
             }
            },
            "type": "barpolar"
           }
          ],
          "carpet": [
           {
            "aaxis": {
             "endlinecolor": "#2a3f5f",
             "gridcolor": "white",
             "linecolor": "white",
             "minorgridcolor": "white",
             "startlinecolor": "#2a3f5f"
            },
            "baxis": {
             "endlinecolor": "#2a3f5f",
             "gridcolor": "white",
             "linecolor": "white",
             "minorgridcolor": "white",
             "startlinecolor": "#2a3f5f"
            },
            "type": "carpet"
           }
          ],
          "choropleth": [
           {
            "colorbar": {
             "outlinewidth": 0,
             "ticks": ""
            },
            "type": "choropleth"
           }
          ],
          "contour": [
           {
            "colorbar": {
             "outlinewidth": 0,
             "ticks": ""
            },
            "colorscale": [
             [
              0,
              "#0d0887"
             ],
             [
              0.1111111111111111,
              "#46039f"
             ],
             [
              0.2222222222222222,
              "#7201a8"
             ],
             [
              0.3333333333333333,
              "#9c179e"
             ],
             [
              0.4444444444444444,
              "#bd3786"
             ],
             [
              0.5555555555555556,
              "#d8576b"
             ],
             [
              0.6666666666666666,
              "#ed7953"
             ],
             [
              0.7777777777777778,
              "#fb9f3a"
             ],
             [
              0.8888888888888888,
              "#fdca26"
             ],
             [
              1,
              "#f0f921"
             ]
            ],
            "type": "contour"
           }
          ],
          "contourcarpet": [
           {
            "colorbar": {
             "outlinewidth": 0,
             "ticks": ""
            },
            "type": "contourcarpet"
           }
          ],
          "heatmap": [
           {
            "colorbar": {
             "outlinewidth": 0,
             "ticks": ""
            },
            "colorscale": [
             [
              0,
              "#0d0887"
             ],
             [
              0.1111111111111111,
              "#46039f"
             ],
             [
              0.2222222222222222,
              "#7201a8"
             ],
             [
              0.3333333333333333,
              "#9c179e"
             ],
             [
              0.4444444444444444,
              "#bd3786"
             ],
             [
              0.5555555555555556,
              "#d8576b"
             ],
             [
              0.6666666666666666,
              "#ed7953"
             ],
             [
              0.7777777777777778,
              "#fb9f3a"
             ],
             [
              0.8888888888888888,
              "#fdca26"
             ],
             [
              1,
              "#f0f921"
             ]
            ],
            "type": "heatmap"
           }
          ],
          "heatmapgl": [
           {
            "colorbar": {
             "outlinewidth": 0,
             "ticks": ""
            },
            "colorscale": [
             [
              0,
              "#0d0887"
             ],
             [
              0.1111111111111111,
              "#46039f"
             ],
             [
              0.2222222222222222,
              "#7201a8"
             ],
             [
              0.3333333333333333,
              "#9c179e"
             ],
             [
              0.4444444444444444,
              "#bd3786"
             ],
             [
              0.5555555555555556,
              "#d8576b"
             ],
             [
              0.6666666666666666,
              "#ed7953"
             ],
             [
              0.7777777777777778,
              "#fb9f3a"
             ],
             [
              0.8888888888888888,
              "#fdca26"
             ],
             [
              1,
              "#f0f921"
             ]
            ],
            "type": "heatmapgl"
           }
          ],
          "histogram": [
           {
            "marker": {
             "pattern": {
              "fillmode": "overlay",
              "size": 10,
              "solidity": 0.2
             }
            },
            "type": "histogram"
           }
          ],
          "histogram2d": [
           {
            "colorbar": {
             "outlinewidth": 0,
             "ticks": ""
            },
            "colorscale": [
             [
              0,
              "#0d0887"
             ],
             [
              0.1111111111111111,
              "#46039f"
             ],
             [
              0.2222222222222222,
              "#7201a8"
             ],
             [
              0.3333333333333333,
              "#9c179e"
             ],
             [
              0.4444444444444444,
              "#bd3786"
             ],
             [
              0.5555555555555556,
              "#d8576b"
             ],
             [
              0.6666666666666666,
              "#ed7953"
             ],
             [
              0.7777777777777778,
              "#fb9f3a"
             ],
             [
              0.8888888888888888,
              "#fdca26"
             ],
             [
              1,
              "#f0f921"
             ]
            ],
            "type": "histogram2d"
           }
          ],
          "histogram2dcontour": [
           {
            "colorbar": {
             "outlinewidth": 0,
             "ticks": ""
            },
            "colorscale": [
             [
              0,
              "#0d0887"
             ],
             [
              0.1111111111111111,
              "#46039f"
             ],
             [
              0.2222222222222222,
              "#7201a8"
             ],
             [
              0.3333333333333333,
              "#9c179e"
             ],
             [
              0.4444444444444444,
              "#bd3786"
             ],
             [
              0.5555555555555556,
              "#d8576b"
             ],
             [
              0.6666666666666666,
              "#ed7953"
             ],
             [
              0.7777777777777778,
              "#fb9f3a"
             ],
             [
              0.8888888888888888,
              "#fdca26"
             ],
             [
              1,
              "#f0f921"
             ]
            ],
            "type": "histogram2dcontour"
           }
          ],
          "mesh3d": [
           {
            "colorbar": {
             "outlinewidth": 0,
             "ticks": ""
            },
            "type": "mesh3d"
           }
          ],
          "parcoords": [
           {
            "line": {
             "colorbar": {
              "outlinewidth": 0,
              "ticks": ""
             }
            },
            "type": "parcoords"
           }
          ],
          "pie": [
           {
            "automargin": true,
            "type": "pie"
           }
          ],
          "scatter": [
           {
            "fillpattern": {
             "fillmode": "overlay",
             "size": 10,
             "solidity": 0.2
            },
            "type": "scatter"
           }
          ],
          "scatter3d": [
           {
            "line": {
             "colorbar": {
              "outlinewidth": 0,
              "ticks": ""
             }
            },
            "marker": {
             "colorbar": {
              "outlinewidth": 0,
              "ticks": ""
             }
            },
            "type": "scatter3d"
           }
          ],
          "scattercarpet": [
           {
            "marker": {
             "colorbar": {
              "outlinewidth": 0,
              "ticks": ""
             }
            },
            "type": "scattercarpet"
           }
          ],
          "scattergeo": [
           {
            "marker": {
             "colorbar": {
              "outlinewidth": 0,
              "ticks": ""
             }
            },
            "type": "scattergeo"
           }
          ],
          "scattergl": [
           {
            "marker": {
             "colorbar": {
              "outlinewidth": 0,
              "ticks": ""
             }
            },
            "type": "scattergl"
           }
          ],
          "scattermapbox": [
           {
            "marker": {
             "colorbar": {
              "outlinewidth": 0,
              "ticks": ""
             }
            },
            "type": "scattermapbox"
           }
          ],
          "scatterpolar": [
           {
            "marker": {
             "colorbar": {
              "outlinewidth": 0,
              "ticks": ""
             }
            },
            "type": "scatterpolar"
           }
          ],
          "scatterpolargl": [
           {
            "marker": {
             "colorbar": {
              "outlinewidth": 0,
              "ticks": ""
             }
            },
            "type": "scatterpolargl"
           }
          ],
          "scatterternary": [
           {
            "marker": {
             "colorbar": {
              "outlinewidth": 0,
              "ticks": ""
             }
            },
            "type": "scatterternary"
           }
          ],
          "surface": [
           {
            "colorbar": {
             "outlinewidth": 0,
             "ticks": ""
            },
            "colorscale": [
             [
              0,
              "#0d0887"
             ],
             [
              0.1111111111111111,
              "#46039f"
             ],
             [
              0.2222222222222222,
              "#7201a8"
             ],
             [
              0.3333333333333333,
              "#9c179e"
             ],
             [
              0.4444444444444444,
              "#bd3786"
             ],
             [
              0.5555555555555556,
              "#d8576b"
             ],
             [
              0.6666666666666666,
              "#ed7953"
             ],
             [
              0.7777777777777778,
              "#fb9f3a"
             ],
             [
              0.8888888888888888,
              "#fdca26"
             ],
             [
              1,
              "#f0f921"
             ]
            ],
            "type": "surface"
           }
          ],
          "table": [
           {
            "cells": {
             "fill": {
              "color": "#EBF0F8"
             },
             "line": {
              "color": "white"
             }
            },
            "header": {
             "fill": {
              "color": "#C8D4E3"
             },
             "line": {
              "color": "white"
             }
            },
            "type": "table"
           }
          ]
         },
         "layout": {
          "annotationdefaults": {
           "arrowcolor": "#2a3f5f",
           "arrowhead": 0,
           "arrowwidth": 1
          },
          "autotypenumbers": "strict",
          "coloraxis": {
           "colorbar": {
            "outlinewidth": 0,
            "ticks": ""
           }
          },
          "colorscale": {
           "diverging": [
            [
             0,
             "#8e0152"
            ],
            [
             0.1,
             "#c51b7d"
            ],
            [
             0.2,
             "#de77ae"
            ],
            [
             0.3,
             "#f1b6da"
            ],
            [
             0.4,
             "#fde0ef"
            ],
            [
             0.5,
             "#f7f7f7"
            ],
            [
             0.6,
             "#e6f5d0"
            ],
            [
             0.7,
             "#b8e186"
            ],
            [
             0.8,
             "#7fbc41"
            ],
            [
             0.9,
             "#4d9221"
            ],
            [
             1,
             "#276419"
            ]
           ],
           "sequential": [
            [
             0,
             "#0d0887"
            ],
            [
             0.1111111111111111,
             "#46039f"
            ],
            [
             0.2222222222222222,
             "#7201a8"
            ],
            [
             0.3333333333333333,
             "#9c179e"
            ],
            [
             0.4444444444444444,
             "#bd3786"
            ],
            [
             0.5555555555555556,
             "#d8576b"
            ],
            [
             0.6666666666666666,
             "#ed7953"
            ],
            [
             0.7777777777777778,
             "#fb9f3a"
            ],
            [
             0.8888888888888888,
             "#fdca26"
            ],
            [
             1,
             "#f0f921"
            ]
           ],
           "sequentialminus": [
            [
             0,
             "#0d0887"
            ],
            [
             0.1111111111111111,
             "#46039f"
            ],
            [
             0.2222222222222222,
             "#7201a8"
            ],
            [
             0.3333333333333333,
             "#9c179e"
            ],
            [
             0.4444444444444444,
             "#bd3786"
            ],
            [
             0.5555555555555556,
             "#d8576b"
            ],
            [
             0.6666666666666666,
             "#ed7953"
            ],
            [
             0.7777777777777778,
             "#fb9f3a"
            ],
            [
             0.8888888888888888,
             "#fdca26"
            ],
            [
             1,
             "#f0f921"
            ]
           ]
          },
          "colorway": [
           "#636efa",
           "#EF553B",
           "#00cc96",
           "#ab63fa",
           "#FFA15A",
           "#19d3f3",
           "#FF6692",
           "#B6E880",
           "#FF97FF",
           "#FECB52"
          ],
          "font": {
           "color": "#2a3f5f"
          },
          "geo": {
           "bgcolor": "white",
           "lakecolor": "white",
           "landcolor": "#E5ECF6",
           "showlakes": true,
           "showland": true,
           "subunitcolor": "white"
          },
          "hoverlabel": {
           "align": "left"
          },
          "hovermode": "closest",
          "mapbox": {
           "style": "light"
          },
          "paper_bgcolor": "white",
          "plot_bgcolor": "#E5ECF6",
          "polar": {
           "angularaxis": {
            "gridcolor": "white",
            "linecolor": "white",
            "ticks": ""
           },
           "bgcolor": "#E5ECF6",
           "radialaxis": {
            "gridcolor": "white",
            "linecolor": "white",
            "ticks": ""
           }
          },
          "scene": {
           "xaxis": {
            "backgroundcolor": "#E5ECF6",
            "gridcolor": "white",
            "gridwidth": 2,
            "linecolor": "white",
            "showbackground": true,
            "ticks": "",
            "zerolinecolor": "white"
           },
           "yaxis": {
            "backgroundcolor": "#E5ECF6",
            "gridcolor": "white",
            "gridwidth": 2,
            "linecolor": "white",
            "showbackground": true,
            "ticks": "",
            "zerolinecolor": "white"
           },
           "zaxis": {
            "backgroundcolor": "#E5ECF6",
            "gridcolor": "white",
            "gridwidth": 2,
            "linecolor": "white",
            "showbackground": true,
            "ticks": "",
            "zerolinecolor": "white"
           }
          },
          "shapedefaults": {
           "line": {
            "color": "#2a3f5f"
           }
          },
          "ternary": {
           "aaxis": {
            "gridcolor": "white",
            "linecolor": "white",
            "ticks": ""
           },
           "baxis": {
            "gridcolor": "white",
            "linecolor": "white",
            "ticks": ""
           },
           "bgcolor": "#E5ECF6",
           "caxis": {
            "gridcolor": "white",
            "linecolor": "white",
            "ticks": ""
           }
          },
          "title": {
           "x": 0.05
          },
          "xaxis": {
           "automargin": true,
           "gridcolor": "white",
           "linecolor": "white",
           "ticks": "",
           "title": {
            "standoff": 15
           },
           "zerolinecolor": "white",
           "zerolinewidth": 2
          },
          "yaxis": {
           "automargin": true,
           "gridcolor": "white",
           "linecolor": "white",
           "ticks": "",
           "title": {
            "standoff": 15
           },
           "zerolinecolor": "white",
           "zerolinewidth": 2
          }
         }
        },
        "xaxis": {
         "anchor": "y",
         "domain": [
          0,
          1
         ],
         "title": {
          "text": "Year"
         }
        },
        "yaxis": {
         "anchor": "x",
         "domain": [
          0,
          1
         ],
         "title": {
          "text": "TotalRuns"
         }
        }
       }
      },
      "text/html": [
       "<div>                            <div id=\"f4142338-ad86-4d77-807a-d6eccbd8bc60\" class=\"plotly-graph-div\" style=\"height:525px; width:100%;\"></div>            <script type=\"text/javascript\">                require([\"plotly\"], function(Plotly) {                    window.PLOTLYENV=window.PLOTLYENV || {};                                    if (document.getElementById(\"f4142338-ad86-4d77-807a-d6eccbd8bc60\")) {                    Plotly.newPlot(                        \"f4142338-ad86-4d77-807a-d6eccbd8bc60\",                        [{\"hovertemplate\":\"Year=%{x}<br>TotalRuns=%{y}<extra></extra>\",\"legendgroup\":\"\",\"line\":{\"color\":\"#636efa\",\"dash\":\"solid\"},\"marker\":{\"symbol\":\"circle\"},\"mode\":\"lines+markers\",\"name\":\"\",\"orientation\":\"v\",\"showlegend\":false,\"x\":[2008,2009,2011,2012,2013,2014,2015,2016,2017,2018,2019,2020,2021,2022,2023],\"xaxis\":\"x\",\"y\":[135,295,283,191,201,146,132,132,191,89,106,232,227,116,190],\"yaxis\":\"y\",\"type\":\"scatter\"}],                        {\"template\":{\"data\":{\"histogram2dcontour\":[{\"type\":\"histogram2dcontour\",\"colorbar\":{\"outlinewidth\":0,\"ticks\":\"\"},\"colorscale\":[[0.0,\"#0d0887\"],[0.1111111111111111,\"#46039f\"],[0.2222222222222222,\"#7201a8\"],[0.3333333333333333,\"#9c179e\"],[0.4444444444444444,\"#bd3786\"],[0.5555555555555556,\"#d8576b\"],[0.6666666666666666,\"#ed7953\"],[0.7777777777777778,\"#fb9f3a\"],[0.8888888888888888,\"#fdca26\"],[1.0,\"#f0f921\"]]}],\"choropleth\":[{\"type\":\"choropleth\",\"colorbar\":{\"outlinewidth\":0,\"ticks\":\"\"}}],\"histogram2d\":[{\"type\":\"histogram2d\",\"colorbar\":{\"outlinewidth\":0,\"ticks\":\"\"},\"colorscale\":[[0.0,\"#0d0887\"],[0.1111111111111111,\"#46039f\"],[0.2222222222222222,\"#7201a8\"],[0.3333333333333333,\"#9c179e\"],[0.4444444444444444,\"#bd3786\"],[0.5555555555555556,\"#d8576b\"],[0.6666666666666666,\"#ed7953\"],[0.7777777777777778,\"#fb9f3a\"],[0.8888888888888888,\"#fdca26\"],[1.0,\"#f0f921\"]]}],\"heatmap\":[{\"type\":\"heatmap\",\"colorbar\":{\"outlinewidth\":0,\"ticks\":\"\"},\"colorscale\":[[0.0,\"#0d0887\"],[0.1111111111111111,\"#46039f\"],[0.2222222222222222,\"#7201a8\"],[0.3333333333333333,\"#9c179e\"],[0.4444444444444444,\"#bd3786\"],[0.5555555555555556,\"#d8576b\"],[0.6666666666666666,\"#ed7953\"],[0.7777777777777778,\"#fb9f3a\"],[0.8888888888888888,\"#fdca26\"],[1.0,\"#f0f921\"]]}],\"heatmapgl\":[{\"type\":\"heatmapgl\",\"colorbar\":{\"outlinewidth\":0,\"ticks\":\"\"},\"colorscale\":[[0.0,\"#0d0887\"],[0.1111111111111111,\"#46039f\"],[0.2222222222222222,\"#7201a8\"],[0.3333333333333333,\"#9c179e\"],[0.4444444444444444,\"#bd3786\"],[0.5555555555555556,\"#d8576b\"],[0.6666666666666666,\"#ed7953\"],[0.7777777777777778,\"#fb9f3a\"],[0.8888888888888888,\"#fdca26\"],[1.0,\"#f0f921\"]]}],\"contourcarpet\":[{\"type\":\"contourcarpet\",\"colorbar\":{\"outlinewidth\":0,\"ticks\":\"\"}}],\"contour\":[{\"type\":\"contour\",\"colorbar\":{\"outlinewidth\":0,\"ticks\":\"\"},\"colorscale\":[[0.0,\"#0d0887\"],[0.1111111111111111,\"#46039f\"],[0.2222222222222222,\"#7201a8\"],[0.3333333333333333,\"#9c179e\"],[0.4444444444444444,\"#bd3786\"],[0.5555555555555556,\"#d8576b\"],[0.6666666666666666,\"#ed7953\"],[0.7777777777777778,\"#fb9f3a\"],[0.8888888888888888,\"#fdca26\"],[1.0,\"#f0f921\"]]}],\"surface\":[{\"type\":\"surface\",\"colorbar\":{\"outlinewidth\":0,\"ticks\":\"\"},\"colorscale\":[[0.0,\"#0d0887\"],[0.1111111111111111,\"#46039f\"],[0.2222222222222222,\"#7201a8\"],[0.3333333333333333,\"#9c179e\"],[0.4444444444444444,\"#bd3786\"],[0.5555555555555556,\"#d8576b\"],[0.6666666666666666,\"#ed7953\"],[0.7777777777777778,\"#fb9f3a\"],[0.8888888888888888,\"#fdca26\"],[1.0,\"#f0f921\"]]}],\"mesh3d\":[{\"type\":\"mesh3d\",\"colorbar\":{\"outlinewidth\":0,\"ticks\":\"\"}}],\"scatter\":[{\"fillpattern\":{\"fillmode\":\"overlay\",\"size\":10,\"solidity\":0.2},\"type\":\"scatter\"}],\"parcoords\":[{\"type\":\"parcoords\",\"line\":{\"colorbar\":{\"outlinewidth\":0,\"ticks\":\"\"}}}],\"scatterpolargl\":[{\"type\":\"scatterpolargl\",\"marker\":{\"colorbar\":{\"outlinewidth\":0,\"ticks\":\"\"}}}],\"bar\":[{\"error_x\":{\"color\":\"#2a3f5f\"},\"error_y\":{\"color\":\"#2a3f5f\"},\"marker\":{\"line\":{\"color\":\"#E5ECF6\",\"width\":0.5},\"pattern\":{\"fillmode\":\"overlay\",\"size\":10,\"solidity\":0.2}},\"type\":\"bar\"}],\"scattergeo\":[{\"type\":\"scattergeo\",\"marker\":{\"colorbar\":{\"outlinewidth\":0,\"ticks\":\"\"}}}],\"scatterpolar\":[{\"type\":\"scatterpolar\",\"marker\":{\"colorbar\":{\"outlinewidth\":0,\"ticks\":\"\"}}}],\"histogram\":[{\"marker\":{\"pattern\":{\"fillmode\":\"overlay\",\"size\":10,\"solidity\":0.2}},\"type\":\"histogram\"}],\"scattergl\":[{\"type\":\"scattergl\",\"marker\":{\"colorbar\":{\"outlinewidth\":0,\"ticks\":\"\"}}}],\"scatter3d\":[{\"type\":\"scatter3d\",\"line\":{\"colorbar\":{\"outlinewidth\":0,\"ticks\":\"\"}},\"marker\":{\"colorbar\":{\"outlinewidth\":0,\"ticks\":\"\"}}}],\"scattermapbox\":[{\"type\":\"scattermapbox\",\"marker\":{\"colorbar\":{\"outlinewidth\":0,\"ticks\":\"\"}}}],\"scatterternary\":[{\"type\":\"scatterternary\",\"marker\":{\"colorbar\":{\"outlinewidth\":0,\"ticks\":\"\"}}}],\"scattercarpet\":[{\"type\":\"scattercarpet\",\"marker\":{\"colorbar\":{\"outlinewidth\":0,\"ticks\":\"\"}}}],\"carpet\":[{\"aaxis\":{\"endlinecolor\":\"#2a3f5f\",\"gridcolor\":\"white\",\"linecolor\":\"white\",\"minorgridcolor\":\"white\",\"startlinecolor\":\"#2a3f5f\"},\"baxis\":{\"endlinecolor\":\"#2a3f5f\",\"gridcolor\":\"white\",\"linecolor\":\"white\",\"minorgridcolor\":\"white\",\"startlinecolor\":\"#2a3f5f\"},\"type\":\"carpet\"}],\"table\":[{\"cells\":{\"fill\":{\"color\":\"#EBF0F8\"},\"line\":{\"color\":\"white\"}},\"header\":{\"fill\":{\"color\":\"#C8D4E3\"},\"line\":{\"color\":\"white\"}},\"type\":\"table\"}],\"barpolar\":[{\"marker\":{\"line\":{\"color\":\"#E5ECF6\",\"width\":0.5},\"pattern\":{\"fillmode\":\"overlay\",\"size\":10,\"solidity\":0.2}},\"type\":\"barpolar\"}],\"pie\":[{\"automargin\":true,\"type\":\"pie\"}]},\"layout\":{\"autotypenumbers\":\"strict\",\"colorway\":[\"#636efa\",\"#EF553B\",\"#00cc96\",\"#ab63fa\",\"#FFA15A\",\"#19d3f3\",\"#FF6692\",\"#B6E880\",\"#FF97FF\",\"#FECB52\"],\"font\":{\"color\":\"#2a3f5f\"},\"hovermode\":\"closest\",\"hoverlabel\":{\"align\":\"left\"},\"paper_bgcolor\":\"white\",\"plot_bgcolor\":\"#E5ECF6\",\"polar\":{\"bgcolor\":\"#E5ECF6\",\"angularaxis\":{\"gridcolor\":\"white\",\"linecolor\":\"white\",\"ticks\":\"\"},\"radialaxis\":{\"gridcolor\":\"white\",\"linecolor\":\"white\",\"ticks\":\"\"}},\"ternary\":{\"bgcolor\":\"#E5ECF6\",\"aaxis\":{\"gridcolor\":\"white\",\"linecolor\":\"white\",\"ticks\":\"\"},\"baxis\":{\"gridcolor\":\"white\",\"linecolor\":\"white\",\"ticks\":\"\"},\"caxis\":{\"gridcolor\":\"white\",\"linecolor\":\"white\",\"ticks\":\"\"}},\"coloraxis\":{\"colorbar\":{\"outlinewidth\":0,\"ticks\":\"\"}},\"colorscale\":{\"sequential\":[[0.0,\"#0d0887\"],[0.1111111111111111,\"#46039f\"],[0.2222222222222222,\"#7201a8\"],[0.3333333333333333,\"#9c179e\"],[0.4444444444444444,\"#bd3786\"],[0.5555555555555556,\"#d8576b\"],[0.6666666666666666,\"#ed7953\"],[0.7777777777777778,\"#fb9f3a\"],[0.8888888888888888,\"#fdca26\"],[1.0,\"#f0f921\"]],\"sequentialminus\":[[0.0,\"#0d0887\"],[0.1111111111111111,\"#46039f\"],[0.2222222222222222,\"#7201a8\"],[0.3333333333333333,\"#9c179e\"],[0.4444444444444444,\"#bd3786\"],[0.5555555555555556,\"#d8576b\"],[0.6666666666666666,\"#ed7953\"],[0.7777777777777778,\"#fb9f3a\"],[0.8888888888888888,\"#fdca26\"],[1.0,\"#f0f921\"]],\"diverging\":[[0,\"#8e0152\"],[0.1,\"#c51b7d\"],[0.2,\"#de77ae\"],[0.3,\"#f1b6da\"],[0.4,\"#fde0ef\"],[0.5,\"#f7f7f7\"],[0.6,\"#e6f5d0\"],[0.7,\"#b8e186\"],[0.8,\"#7fbc41\"],[0.9,\"#4d9221\"],[1,\"#276419\"]]},\"xaxis\":{\"gridcolor\":\"white\",\"linecolor\":\"white\",\"ticks\":\"\",\"title\":{\"standoff\":15},\"zerolinecolor\":\"white\",\"automargin\":true,\"zerolinewidth\":2},\"yaxis\":{\"gridcolor\":\"white\",\"linecolor\":\"white\",\"ticks\":\"\",\"title\":{\"standoff\":15},\"zerolinecolor\":\"white\",\"automargin\":true,\"zerolinewidth\":2},\"scene\":{\"xaxis\":{\"backgroundcolor\":\"#E5ECF6\",\"gridcolor\":\"white\",\"linecolor\":\"white\",\"showbackground\":true,\"ticks\":\"\",\"zerolinecolor\":\"white\",\"gridwidth\":2},\"yaxis\":{\"backgroundcolor\":\"#E5ECF6\",\"gridcolor\":\"white\",\"linecolor\":\"white\",\"showbackground\":true,\"ticks\":\"\",\"zerolinecolor\":\"white\",\"gridwidth\":2},\"zaxis\":{\"backgroundcolor\":\"#E5ECF6\",\"gridcolor\":\"white\",\"linecolor\":\"white\",\"showbackground\":true,\"ticks\":\"\",\"zerolinecolor\":\"white\",\"gridwidth\":2}},\"shapedefaults\":{\"line\":{\"color\":\"#2a3f5f\"}},\"annotationdefaults\":{\"arrowcolor\":\"#2a3f5f\",\"arrowhead\":0,\"arrowwidth\":1},\"geo\":{\"bgcolor\":\"white\",\"landcolor\":\"#E5ECF6\",\"subunitcolor\":\"white\",\"showland\":true,\"showlakes\":true,\"lakecolor\":\"white\"},\"title\":{\"x\":0.05},\"mapbox\":{\"style\":\"light\"}}},\"xaxis\":{\"anchor\":\"y\",\"domain\":[0.0,1.0],\"title\":{\"text\":\"Year\"}},\"yaxis\":{\"anchor\":\"x\",\"domain\":[0.0,1.0],\"title\":{\"text\":\"TotalRuns\"}},\"legend\":{\"tracegroupgap\":0},\"margin\":{\"t\":60}},                        {\"responsive\": true}                    ).then(function(){\n",
       "                            \n",
       "var gd = document.getElementById('f4142338-ad86-4d77-807a-d6eccbd8bc60');\n",
       "var x = new MutationObserver(function (mutations, observer) {{\n",
       "        var display = window.getComputedStyle(gd).display;\n",
       "        if (!display || display === 'none') {{\n",
       "            console.log([gd, 'removed!']);\n",
       "            Plotly.purge(gd);\n",
       "            observer.disconnect();\n",
       "        }}\n",
       "}});\n",
       "\n",
       "// Listen for the removal of the full notebook cells\n",
       "var notebookContainer = gd.closest('#notebook-container');\n",
       "if (notebookContainer) {{\n",
       "    x.observe(notebookContainer, {childList: true});\n",
       "}}\n",
       "\n",
       "// Listen for the clearing of the current output cell\n",
       "var outputEl = gd.closest('.output');\n",
       "if (outputEl) {{\n",
       "    x.observe(outputEl, {childList: true});\n",
       "}}\n",
       "\n",
       "                        })                };                });            </script>        </div>"
      ]
     },
     "metadata": {},
     "output_type": "display_data"
    }
   ],
   "source": [
    "fig = px.line(runs,x='Year',y='TotalRuns',markers=True)\n",
    "fig.show()"
   ]
  },
  {
   "cell_type": "code",
   "execution_count": 23,
   "id": "5b1d2fbd",
   "metadata": {},
   "outputs": [
    {
     "data": {
      "text/html": [
       "<div>\n",
       "<style scoped>\n",
       "    .dataframe tbody tr th:only-of-type {\n",
       "        vertical-align: middle;\n",
       "    }\n",
       "\n",
       "    .dataframe tbody tr th {\n",
       "        vertical-align: top;\n",
       "    }\n",
       "\n",
       "    .dataframe thead th {\n",
       "        text-align: right;\n",
       "    }\n",
       "</style>\n",
       "<table border=\"1\" class=\"dataframe\">\n",
       "  <thead>\n",
       "    <tr style=\"text-align: right;\">\n",
       "      <th></th>\n",
       "      <th>Year</th>\n",
       "      <th>Wickets</th>\n",
       "    </tr>\n",
       "  </thead>\n",
       "  <tbody>\n",
       "    <tr>\n",
       "      <th>47</th>\n",
       "      <td>2008</td>\n",
       "      <td>0</td>\n",
       "    </tr>\n",
       "    <tr>\n",
       "      <th>170</th>\n",
       "      <td>2009</td>\n",
       "      <td>6</td>\n",
       "    </tr>\n",
       "    <tr>\n",
       "      <th>492</th>\n",
       "      <td>2011</td>\n",
       "      <td>8</td>\n",
       "    </tr>\n",
       "    <tr>\n",
       "      <th>696</th>\n",
       "      <td>2012</td>\n",
       "      <td>12</td>\n",
       "    </tr>\n",
       "    <tr>\n",
       "      <th>862</th>\n",
       "      <td>2013</td>\n",
       "      <td>13</td>\n",
       "    </tr>\n",
       "    <tr>\n",
       "      <th>1056</th>\n",
       "      <td>2014</td>\n",
       "      <td>19</td>\n",
       "    </tr>\n",
       "    <tr>\n",
       "      <th>1204</th>\n",
       "      <td>2015</td>\n",
       "      <td>11</td>\n",
       "    </tr>\n",
       "    <tr>\n",
       "      <th>1343</th>\n",
       "      <td>2016</td>\n",
       "      <td>11</td>\n",
       "    </tr>\n",
       "    <tr>\n",
       "      <th>1467</th>\n",
       "      <td>2017</td>\n",
       "      <td>8</td>\n",
       "    </tr>\n",
       "    <tr>\n",
       "      <th>1642</th>\n",
       "      <td>2018</td>\n",
       "      <td>11</td>\n",
       "    </tr>\n",
       "    <tr>\n",
       "      <th>1781</th>\n",
       "      <td>2019</td>\n",
       "      <td>15</td>\n",
       "    </tr>\n",
       "    <tr>\n",
       "      <th>1925</th>\n",
       "      <td>2020</td>\n",
       "      <td>6</td>\n",
       "    </tr>\n",
       "    <tr>\n",
       "      <th>2066</th>\n",
       "      <td>2021</td>\n",
       "      <td>13</td>\n",
       "    </tr>\n",
       "    <tr>\n",
       "      <th>2266</th>\n",
       "      <td>2022</td>\n",
       "      <td>5</td>\n",
       "    </tr>\n",
       "    <tr>\n",
       "      <th>2434</th>\n",
       "      <td>2023</td>\n",
       "      <td>20</td>\n",
       "    </tr>\n",
       "  </tbody>\n",
       "</table>\n",
       "</div>"
      ],
      "text/plain": [
       "      Year  Wickets\n",
       "47    2008        0\n",
       "170   2009        6\n",
       "492   2011        8\n",
       "696   2012       12\n",
       "862   2013       13\n",
       "1056  2014       19\n",
       "1204  2015       11\n",
       "1343  2016       11\n",
       "1467  2017        8\n",
       "1642  2018       11\n",
       "1781  2019       15\n",
       "1925  2020        6\n",
       "2066  2021       13\n",
       "2266  2022        5\n",
       "2434  2023       20"
      ]
     },
     "execution_count": 23,
     "metadata": {},
     "output_type": "execute_result"
    }
   ],
   "source": [
    "wickets = player_data[player_data['Name'] == name][['Year','Wickets']]\n",
    "wickets"
   ]
  },
  {
   "cell_type": "code",
   "execution_count": 24,
   "id": "e33862df",
   "metadata": {},
   "outputs": [
    {
     "data": {
      "application/vnd.plotly.v1+json": {
       "config": {
        "plotlyServerURL": "https://plot.ly"
       },
       "data": [
        {
         "hovertemplate": "Year=%{x}<br>Wickets=%{y}<extra></extra>",
         "legendgroup": "",
         "line": {
          "color": "#636efa",
          "dash": "solid"
         },
         "marker": {
          "symbol": "circle"
         },
         "mode": "lines+markers",
         "name": "",
         "orientation": "v",
         "showlegend": false,
         "type": "scatter",
         "x": [
          2008,
          2009,
          2011,
          2012,
          2013,
          2014,
          2015,
          2016,
          2017,
          2018,
          2019,
          2020,
          2021,
          2022,
          2023
         ],
         "xaxis": "x",
         "y": [
          0,
          6,
          8,
          12,
          13,
          19,
          11,
          11,
          8,
          11,
          15,
          6,
          13,
          5,
          20
         ],
         "yaxis": "y"
        }
       ],
       "layout": {
        "legend": {
         "tracegroupgap": 0
        },
        "margin": {
         "t": 60
        },
        "template": {
         "data": {
          "bar": [
           {
            "error_x": {
             "color": "#2a3f5f"
            },
            "error_y": {
             "color": "#2a3f5f"
            },
            "marker": {
             "line": {
              "color": "#E5ECF6",
              "width": 0.5
             },
             "pattern": {
              "fillmode": "overlay",
              "size": 10,
              "solidity": 0.2
             }
            },
            "type": "bar"
           }
          ],
          "barpolar": [
           {
            "marker": {
             "line": {
              "color": "#E5ECF6",
              "width": 0.5
             },
             "pattern": {
              "fillmode": "overlay",
              "size": 10,
              "solidity": 0.2
             }
            },
            "type": "barpolar"
           }
          ],
          "carpet": [
           {
            "aaxis": {
             "endlinecolor": "#2a3f5f",
             "gridcolor": "white",
             "linecolor": "white",
             "minorgridcolor": "white",
             "startlinecolor": "#2a3f5f"
            },
            "baxis": {
             "endlinecolor": "#2a3f5f",
             "gridcolor": "white",
             "linecolor": "white",
             "minorgridcolor": "white",
             "startlinecolor": "#2a3f5f"
            },
            "type": "carpet"
           }
          ],
          "choropleth": [
           {
            "colorbar": {
             "outlinewidth": 0,
             "ticks": ""
            },
            "type": "choropleth"
           }
          ],
          "contour": [
           {
            "colorbar": {
             "outlinewidth": 0,
             "ticks": ""
            },
            "colorscale": [
             [
              0,
              "#0d0887"
             ],
             [
              0.1111111111111111,
              "#46039f"
             ],
             [
              0.2222222222222222,
              "#7201a8"
             ],
             [
              0.3333333333333333,
              "#9c179e"
             ],
             [
              0.4444444444444444,
              "#bd3786"
             ],
             [
              0.5555555555555556,
              "#d8576b"
             ],
             [
              0.6666666666666666,
              "#ed7953"
             ],
             [
              0.7777777777777778,
              "#fb9f3a"
             ],
             [
              0.8888888888888888,
              "#fdca26"
             ],
             [
              1,
              "#f0f921"
             ]
            ],
            "type": "contour"
           }
          ],
          "contourcarpet": [
           {
            "colorbar": {
             "outlinewidth": 0,
             "ticks": ""
            },
            "type": "contourcarpet"
           }
          ],
          "heatmap": [
           {
            "colorbar": {
             "outlinewidth": 0,
             "ticks": ""
            },
            "colorscale": [
             [
              0,
              "#0d0887"
             ],
             [
              0.1111111111111111,
              "#46039f"
             ],
             [
              0.2222222222222222,
              "#7201a8"
             ],
             [
              0.3333333333333333,
              "#9c179e"
             ],
             [
              0.4444444444444444,
              "#bd3786"
             ],
             [
              0.5555555555555556,
              "#d8576b"
             ],
             [
              0.6666666666666666,
              "#ed7953"
             ],
             [
              0.7777777777777778,
              "#fb9f3a"
             ],
             [
              0.8888888888888888,
              "#fdca26"
             ],
             [
              1,
              "#f0f921"
             ]
            ],
            "type": "heatmap"
           }
          ],
          "heatmapgl": [
           {
            "colorbar": {
             "outlinewidth": 0,
             "ticks": ""
            },
            "colorscale": [
             [
              0,
              "#0d0887"
             ],
             [
              0.1111111111111111,
              "#46039f"
             ],
             [
              0.2222222222222222,
              "#7201a8"
             ],
             [
              0.3333333333333333,
              "#9c179e"
             ],
             [
              0.4444444444444444,
              "#bd3786"
             ],
             [
              0.5555555555555556,
              "#d8576b"
             ],
             [
              0.6666666666666666,
              "#ed7953"
             ],
             [
              0.7777777777777778,
              "#fb9f3a"
             ],
             [
              0.8888888888888888,
              "#fdca26"
             ],
             [
              1,
              "#f0f921"
             ]
            ],
            "type": "heatmapgl"
           }
          ],
          "histogram": [
           {
            "marker": {
             "pattern": {
              "fillmode": "overlay",
              "size": 10,
              "solidity": 0.2
             }
            },
            "type": "histogram"
           }
          ],
          "histogram2d": [
           {
            "colorbar": {
             "outlinewidth": 0,
             "ticks": ""
            },
            "colorscale": [
             [
              0,
              "#0d0887"
             ],
             [
              0.1111111111111111,
              "#46039f"
             ],
             [
              0.2222222222222222,
              "#7201a8"
             ],
             [
              0.3333333333333333,
              "#9c179e"
             ],
             [
              0.4444444444444444,
              "#bd3786"
             ],
             [
              0.5555555555555556,
              "#d8576b"
             ],
             [
              0.6666666666666666,
              "#ed7953"
             ],
             [
              0.7777777777777778,
              "#fb9f3a"
             ],
             [
              0.8888888888888888,
              "#fdca26"
             ],
             [
              1,
              "#f0f921"
             ]
            ],
            "type": "histogram2d"
           }
          ],
          "histogram2dcontour": [
           {
            "colorbar": {
             "outlinewidth": 0,
             "ticks": ""
            },
            "colorscale": [
             [
              0,
              "#0d0887"
             ],
             [
              0.1111111111111111,
              "#46039f"
             ],
             [
              0.2222222222222222,
              "#7201a8"
             ],
             [
              0.3333333333333333,
              "#9c179e"
             ],
             [
              0.4444444444444444,
              "#bd3786"
             ],
             [
              0.5555555555555556,
              "#d8576b"
             ],
             [
              0.6666666666666666,
              "#ed7953"
             ],
             [
              0.7777777777777778,
              "#fb9f3a"
             ],
             [
              0.8888888888888888,
              "#fdca26"
             ],
             [
              1,
              "#f0f921"
             ]
            ],
            "type": "histogram2dcontour"
           }
          ],
          "mesh3d": [
           {
            "colorbar": {
             "outlinewidth": 0,
             "ticks": ""
            },
            "type": "mesh3d"
           }
          ],
          "parcoords": [
           {
            "line": {
             "colorbar": {
              "outlinewidth": 0,
              "ticks": ""
             }
            },
            "type": "parcoords"
           }
          ],
          "pie": [
           {
            "automargin": true,
            "type": "pie"
           }
          ],
          "scatter": [
           {
            "fillpattern": {
             "fillmode": "overlay",
             "size": 10,
             "solidity": 0.2
            },
            "type": "scatter"
           }
          ],
          "scatter3d": [
           {
            "line": {
             "colorbar": {
              "outlinewidth": 0,
              "ticks": ""
             }
            },
            "marker": {
             "colorbar": {
              "outlinewidth": 0,
              "ticks": ""
             }
            },
            "type": "scatter3d"
           }
          ],
          "scattercarpet": [
           {
            "marker": {
             "colorbar": {
              "outlinewidth": 0,
              "ticks": ""
             }
            },
            "type": "scattercarpet"
           }
          ],
          "scattergeo": [
           {
            "marker": {
             "colorbar": {
              "outlinewidth": 0,
              "ticks": ""
             }
            },
            "type": "scattergeo"
           }
          ],
          "scattergl": [
           {
            "marker": {
             "colorbar": {
              "outlinewidth": 0,
              "ticks": ""
             }
            },
            "type": "scattergl"
           }
          ],
          "scattermapbox": [
           {
            "marker": {
             "colorbar": {
              "outlinewidth": 0,
              "ticks": ""
             }
            },
            "type": "scattermapbox"
           }
          ],
          "scatterpolar": [
           {
            "marker": {
             "colorbar": {
              "outlinewidth": 0,
              "ticks": ""
             }
            },
            "type": "scatterpolar"
           }
          ],
          "scatterpolargl": [
           {
            "marker": {
             "colorbar": {
              "outlinewidth": 0,
              "ticks": ""
             }
            },
            "type": "scatterpolargl"
           }
          ],
          "scatterternary": [
           {
            "marker": {
             "colorbar": {
              "outlinewidth": 0,
              "ticks": ""
             }
            },
            "type": "scatterternary"
           }
          ],
          "surface": [
           {
            "colorbar": {
             "outlinewidth": 0,
             "ticks": ""
            },
            "colorscale": [
             [
              0,
              "#0d0887"
             ],
             [
              0.1111111111111111,
              "#46039f"
             ],
             [
              0.2222222222222222,
              "#7201a8"
             ],
             [
              0.3333333333333333,
              "#9c179e"
             ],
             [
              0.4444444444444444,
              "#bd3786"
             ],
             [
              0.5555555555555556,
              "#d8576b"
             ],
             [
              0.6666666666666666,
              "#ed7953"
             ],
             [
              0.7777777777777778,
              "#fb9f3a"
             ],
             [
              0.8888888888888888,
              "#fdca26"
             ],
             [
              1,
              "#f0f921"
             ]
            ],
            "type": "surface"
           }
          ],
          "table": [
           {
            "cells": {
             "fill": {
              "color": "#EBF0F8"
             },
             "line": {
              "color": "white"
             }
            },
            "header": {
             "fill": {
              "color": "#C8D4E3"
             },
             "line": {
              "color": "white"
             }
            },
            "type": "table"
           }
          ]
         },
         "layout": {
          "annotationdefaults": {
           "arrowcolor": "#2a3f5f",
           "arrowhead": 0,
           "arrowwidth": 1
          },
          "autotypenumbers": "strict",
          "coloraxis": {
           "colorbar": {
            "outlinewidth": 0,
            "ticks": ""
           }
          },
          "colorscale": {
           "diverging": [
            [
             0,
             "#8e0152"
            ],
            [
             0.1,
             "#c51b7d"
            ],
            [
             0.2,
             "#de77ae"
            ],
            [
             0.3,
             "#f1b6da"
            ],
            [
             0.4,
             "#fde0ef"
            ],
            [
             0.5,
             "#f7f7f7"
            ],
            [
             0.6,
             "#e6f5d0"
            ],
            [
             0.7,
             "#b8e186"
            ],
            [
             0.8,
             "#7fbc41"
            ],
            [
             0.9,
             "#4d9221"
            ],
            [
             1,
             "#276419"
            ]
           ],
           "sequential": [
            [
             0,
             "#0d0887"
            ],
            [
             0.1111111111111111,
             "#46039f"
            ],
            [
             0.2222222222222222,
             "#7201a8"
            ],
            [
             0.3333333333333333,
             "#9c179e"
            ],
            [
             0.4444444444444444,
             "#bd3786"
            ],
            [
             0.5555555555555556,
             "#d8576b"
            ],
            [
             0.6666666666666666,
             "#ed7953"
            ],
            [
             0.7777777777777778,
             "#fb9f3a"
            ],
            [
             0.8888888888888888,
             "#fdca26"
            ],
            [
             1,
             "#f0f921"
            ]
           ],
           "sequentialminus": [
            [
             0,
             "#0d0887"
            ],
            [
             0.1111111111111111,
             "#46039f"
            ],
            [
             0.2222222222222222,
             "#7201a8"
            ],
            [
             0.3333333333333333,
             "#9c179e"
            ],
            [
             0.4444444444444444,
             "#bd3786"
            ],
            [
             0.5555555555555556,
             "#d8576b"
            ],
            [
             0.6666666666666666,
             "#ed7953"
            ],
            [
             0.7777777777777778,
             "#fb9f3a"
            ],
            [
             0.8888888888888888,
             "#fdca26"
            ],
            [
             1,
             "#f0f921"
            ]
           ]
          },
          "colorway": [
           "#636efa",
           "#EF553B",
           "#00cc96",
           "#ab63fa",
           "#FFA15A",
           "#19d3f3",
           "#FF6692",
           "#B6E880",
           "#FF97FF",
           "#FECB52"
          ],
          "font": {
           "color": "#2a3f5f"
          },
          "geo": {
           "bgcolor": "white",
           "lakecolor": "white",
           "landcolor": "#E5ECF6",
           "showlakes": true,
           "showland": true,
           "subunitcolor": "white"
          },
          "hoverlabel": {
           "align": "left"
          },
          "hovermode": "closest",
          "mapbox": {
           "style": "light"
          },
          "paper_bgcolor": "white",
          "plot_bgcolor": "#E5ECF6",
          "polar": {
           "angularaxis": {
            "gridcolor": "white",
            "linecolor": "white",
            "ticks": ""
           },
           "bgcolor": "#E5ECF6",
           "radialaxis": {
            "gridcolor": "white",
            "linecolor": "white",
            "ticks": ""
           }
          },
          "scene": {
           "xaxis": {
            "backgroundcolor": "#E5ECF6",
            "gridcolor": "white",
            "gridwidth": 2,
            "linecolor": "white",
            "showbackground": true,
            "ticks": "",
            "zerolinecolor": "white"
           },
           "yaxis": {
            "backgroundcolor": "#E5ECF6",
            "gridcolor": "white",
            "gridwidth": 2,
            "linecolor": "white",
            "showbackground": true,
            "ticks": "",
            "zerolinecolor": "white"
           },
           "zaxis": {
            "backgroundcolor": "#E5ECF6",
            "gridcolor": "white",
            "gridwidth": 2,
            "linecolor": "white",
            "showbackground": true,
            "ticks": "",
            "zerolinecolor": "white"
           }
          },
          "shapedefaults": {
           "line": {
            "color": "#2a3f5f"
           }
          },
          "ternary": {
           "aaxis": {
            "gridcolor": "white",
            "linecolor": "white",
            "ticks": ""
           },
           "baxis": {
            "gridcolor": "white",
            "linecolor": "white",
            "ticks": ""
           },
           "bgcolor": "#E5ECF6",
           "caxis": {
            "gridcolor": "white",
            "linecolor": "white",
            "ticks": ""
           }
          },
          "title": {
           "x": 0.05
          },
          "xaxis": {
           "automargin": true,
           "gridcolor": "white",
           "linecolor": "white",
           "ticks": "",
           "title": {
            "standoff": 15
           },
           "zerolinecolor": "white",
           "zerolinewidth": 2
          },
          "yaxis": {
           "automargin": true,
           "gridcolor": "white",
           "linecolor": "white",
           "ticks": "",
           "title": {
            "standoff": 15
           },
           "zerolinecolor": "white",
           "zerolinewidth": 2
          }
         }
        },
        "xaxis": {
         "anchor": "y",
         "domain": [
          0,
          1
         ],
         "title": {
          "text": "Year"
         }
        },
        "yaxis": {
         "anchor": "x",
         "domain": [
          0,
          1
         ],
         "title": {
          "text": "Wickets"
         }
        }
       }
      },
      "text/html": [
       "<div>                            <div id=\"0cc52150-1d92-46c6-9a01-de2e53112f14\" class=\"plotly-graph-div\" style=\"height:525px; width:100%;\"></div>            <script type=\"text/javascript\">                require([\"plotly\"], function(Plotly) {                    window.PLOTLYENV=window.PLOTLYENV || {};                                    if (document.getElementById(\"0cc52150-1d92-46c6-9a01-de2e53112f14\")) {                    Plotly.newPlot(                        \"0cc52150-1d92-46c6-9a01-de2e53112f14\",                        [{\"hovertemplate\":\"Year=%{x}<br>Wickets=%{y}<extra></extra>\",\"legendgroup\":\"\",\"line\":{\"color\":\"#636efa\",\"dash\":\"solid\"},\"marker\":{\"symbol\":\"circle\"},\"mode\":\"lines+markers\",\"name\":\"\",\"orientation\":\"v\",\"showlegend\":false,\"x\":[2008,2009,2011,2012,2013,2014,2015,2016,2017,2018,2019,2020,2021,2022,2023],\"xaxis\":\"x\",\"y\":[0,6,8,12,13,19,11,11,8,11,15,6,13,5,20],\"yaxis\":\"y\",\"type\":\"scatter\"}],                        {\"template\":{\"data\":{\"histogram2dcontour\":[{\"type\":\"histogram2dcontour\",\"colorbar\":{\"outlinewidth\":0,\"ticks\":\"\"},\"colorscale\":[[0.0,\"#0d0887\"],[0.1111111111111111,\"#46039f\"],[0.2222222222222222,\"#7201a8\"],[0.3333333333333333,\"#9c179e\"],[0.4444444444444444,\"#bd3786\"],[0.5555555555555556,\"#d8576b\"],[0.6666666666666666,\"#ed7953\"],[0.7777777777777778,\"#fb9f3a\"],[0.8888888888888888,\"#fdca26\"],[1.0,\"#f0f921\"]]}],\"choropleth\":[{\"type\":\"choropleth\",\"colorbar\":{\"outlinewidth\":0,\"ticks\":\"\"}}],\"histogram2d\":[{\"type\":\"histogram2d\",\"colorbar\":{\"outlinewidth\":0,\"ticks\":\"\"},\"colorscale\":[[0.0,\"#0d0887\"],[0.1111111111111111,\"#46039f\"],[0.2222222222222222,\"#7201a8\"],[0.3333333333333333,\"#9c179e\"],[0.4444444444444444,\"#bd3786\"],[0.5555555555555556,\"#d8576b\"],[0.6666666666666666,\"#ed7953\"],[0.7777777777777778,\"#fb9f3a\"],[0.8888888888888888,\"#fdca26\"],[1.0,\"#f0f921\"]]}],\"heatmap\":[{\"type\":\"heatmap\",\"colorbar\":{\"outlinewidth\":0,\"ticks\":\"\"},\"colorscale\":[[0.0,\"#0d0887\"],[0.1111111111111111,\"#46039f\"],[0.2222222222222222,\"#7201a8\"],[0.3333333333333333,\"#9c179e\"],[0.4444444444444444,\"#bd3786\"],[0.5555555555555556,\"#d8576b\"],[0.6666666666666666,\"#ed7953\"],[0.7777777777777778,\"#fb9f3a\"],[0.8888888888888888,\"#fdca26\"],[1.0,\"#f0f921\"]]}],\"heatmapgl\":[{\"type\":\"heatmapgl\",\"colorbar\":{\"outlinewidth\":0,\"ticks\":\"\"},\"colorscale\":[[0.0,\"#0d0887\"],[0.1111111111111111,\"#46039f\"],[0.2222222222222222,\"#7201a8\"],[0.3333333333333333,\"#9c179e\"],[0.4444444444444444,\"#bd3786\"],[0.5555555555555556,\"#d8576b\"],[0.6666666666666666,\"#ed7953\"],[0.7777777777777778,\"#fb9f3a\"],[0.8888888888888888,\"#fdca26\"],[1.0,\"#f0f921\"]]}],\"contourcarpet\":[{\"type\":\"contourcarpet\",\"colorbar\":{\"outlinewidth\":0,\"ticks\":\"\"}}],\"contour\":[{\"type\":\"contour\",\"colorbar\":{\"outlinewidth\":0,\"ticks\":\"\"},\"colorscale\":[[0.0,\"#0d0887\"],[0.1111111111111111,\"#46039f\"],[0.2222222222222222,\"#7201a8\"],[0.3333333333333333,\"#9c179e\"],[0.4444444444444444,\"#bd3786\"],[0.5555555555555556,\"#d8576b\"],[0.6666666666666666,\"#ed7953\"],[0.7777777777777778,\"#fb9f3a\"],[0.8888888888888888,\"#fdca26\"],[1.0,\"#f0f921\"]]}],\"surface\":[{\"type\":\"surface\",\"colorbar\":{\"outlinewidth\":0,\"ticks\":\"\"},\"colorscale\":[[0.0,\"#0d0887\"],[0.1111111111111111,\"#46039f\"],[0.2222222222222222,\"#7201a8\"],[0.3333333333333333,\"#9c179e\"],[0.4444444444444444,\"#bd3786\"],[0.5555555555555556,\"#d8576b\"],[0.6666666666666666,\"#ed7953\"],[0.7777777777777778,\"#fb9f3a\"],[0.8888888888888888,\"#fdca26\"],[1.0,\"#f0f921\"]]}],\"mesh3d\":[{\"type\":\"mesh3d\",\"colorbar\":{\"outlinewidth\":0,\"ticks\":\"\"}}],\"scatter\":[{\"fillpattern\":{\"fillmode\":\"overlay\",\"size\":10,\"solidity\":0.2},\"type\":\"scatter\"}],\"parcoords\":[{\"type\":\"parcoords\",\"line\":{\"colorbar\":{\"outlinewidth\":0,\"ticks\":\"\"}}}],\"scatterpolargl\":[{\"type\":\"scatterpolargl\",\"marker\":{\"colorbar\":{\"outlinewidth\":0,\"ticks\":\"\"}}}],\"bar\":[{\"error_x\":{\"color\":\"#2a3f5f\"},\"error_y\":{\"color\":\"#2a3f5f\"},\"marker\":{\"line\":{\"color\":\"#E5ECF6\",\"width\":0.5},\"pattern\":{\"fillmode\":\"overlay\",\"size\":10,\"solidity\":0.2}},\"type\":\"bar\"}],\"scattergeo\":[{\"type\":\"scattergeo\",\"marker\":{\"colorbar\":{\"outlinewidth\":0,\"ticks\":\"\"}}}],\"scatterpolar\":[{\"type\":\"scatterpolar\",\"marker\":{\"colorbar\":{\"outlinewidth\":0,\"ticks\":\"\"}}}],\"histogram\":[{\"marker\":{\"pattern\":{\"fillmode\":\"overlay\",\"size\":10,\"solidity\":0.2}},\"type\":\"histogram\"}],\"scattergl\":[{\"type\":\"scattergl\",\"marker\":{\"colorbar\":{\"outlinewidth\":0,\"ticks\":\"\"}}}],\"scatter3d\":[{\"type\":\"scatter3d\",\"line\":{\"colorbar\":{\"outlinewidth\":0,\"ticks\":\"\"}},\"marker\":{\"colorbar\":{\"outlinewidth\":0,\"ticks\":\"\"}}}],\"scattermapbox\":[{\"type\":\"scattermapbox\",\"marker\":{\"colorbar\":{\"outlinewidth\":0,\"ticks\":\"\"}}}],\"scatterternary\":[{\"type\":\"scatterternary\",\"marker\":{\"colorbar\":{\"outlinewidth\":0,\"ticks\":\"\"}}}],\"scattercarpet\":[{\"type\":\"scattercarpet\",\"marker\":{\"colorbar\":{\"outlinewidth\":0,\"ticks\":\"\"}}}],\"carpet\":[{\"aaxis\":{\"endlinecolor\":\"#2a3f5f\",\"gridcolor\":\"white\",\"linecolor\":\"white\",\"minorgridcolor\":\"white\",\"startlinecolor\":\"#2a3f5f\"},\"baxis\":{\"endlinecolor\":\"#2a3f5f\",\"gridcolor\":\"white\",\"linecolor\":\"white\",\"minorgridcolor\":\"white\",\"startlinecolor\":\"#2a3f5f\"},\"type\":\"carpet\"}],\"table\":[{\"cells\":{\"fill\":{\"color\":\"#EBF0F8\"},\"line\":{\"color\":\"white\"}},\"header\":{\"fill\":{\"color\":\"#C8D4E3\"},\"line\":{\"color\":\"white\"}},\"type\":\"table\"}],\"barpolar\":[{\"marker\":{\"line\":{\"color\":\"#E5ECF6\",\"width\":0.5},\"pattern\":{\"fillmode\":\"overlay\",\"size\":10,\"solidity\":0.2}},\"type\":\"barpolar\"}],\"pie\":[{\"automargin\":true,\"type\":\"pie\"}]},\"layout\":{\"autotypenumbers\":\"strict\",\"colorway\":[\"#636efa\",\"#EF553B\",\"#00cc96\",\"#ab63fa\",\"#FFA15A\",\"#19d3f3\",\"#FF6692\",\"#B6E880\",\"#FF97FF\",\"#FECB52\"],\"font\":{\"color\":\"#2a3f5f\"},\"hovermode\":\"closest\",\"hoverlabel\":{\"align\":\"left\"},\"paper_bgcolor\":\"white\",\"plot_bgcolor\":\"#E5ECF6\",\"polar\":{\"bgcolor\":\"#E5ECF6\",\"angularaxis\":{\"gridcolor\":\"white\",\"linecolor\":\"white\",\"ticks\":\"\"},\"radialaxis\":{\"gridcolor\":\"white\",\"linecolor\":\"white\",\"ticks\":\"\"}},\"ternary\":{\"bgcolor\":\"#E5ECF6\",\"aaxis\":{\"gridcolor\":\"white\",\"linecolor\":\"white\",\"ticks\":\"\"},\"baxis\":{\"gridcolor\":\"white\",\"linecolor\":\"white\",\"ticks\":\"\"},\"caxis\":{\"gridcolor\":\"white\",\"linecolor\":\"white\",\"ticks\":\"\"}},\"coloraxis\":{\"colorbar\":{\"outlinewidth\":0,\"ticks\":\"\"}},\"colorscale\":{\"sequential\":[[0.0,\"#0d0887\"],[0.1111111111111111,\"#46039f\"],[0.2222222222222222,\"#7201a8\"],[0.3333333333333333,\"#9c179e\"],[0.4444444444444444,\"#bd3786\"],[0.5555555555555556,\"#d8576b\"],[0.6666666666666666,\"#ed7953\"],[0.7777777777777778,\"#fb9f3a\"],[0.8888888888888888,\"#fdca26\"],[1.0,\"#f0f921\"]],\"sequentialminus\":[[0.0,\"#0d0887\"],[0.1111111111111111,\"#46039f\"],[0.2222222222222222,\"#7201a8\"],[0.3333333333333333,\"#9c179e\"],[0.4444444444444444,\"#bd3786\"],[0.5555555555555556,\"#d8576b\"],[0.6666666666666666,\"#ed7953\"],[0.7777777777777778,\"#fb9f3a\"],[0.8888888888888888,\"#fdca26\"],[1.0,\"#f0f921\"]],\"diverging\":[[0,\"#8e0152\"],[0.1,\"#c51b7d\"],[0.2,\"#de77ae\"],[0.3,\"#f1b6da\"],[0.4,\"#fde0ef\"],[0.5,\"#f7f7f7\"],[0.6,\"#e6f5d0\"],[0.7,\"#b8e186\"],[0.8,\"#7fbc41\"],[0.9,\"#4d9221\"],[1,\"#276419\"]]},\"xaxis\":{\"gridcolor\":\"white\",\"linecolor\":\"white\",\"ticks\":\"\",\"title\":{\"standoff\":15},\"zerolinecolor\":\"white\",\"automargin\":true,\"zerolinewidth\":2},\"yaxis\":{\"gridcolor\":\"white\",\"linecolor\":\"white\",\"ticks\":\"\",\"title\":{\"standoff\":15},\"zerolinecolor\":\"white\",\"automargin\":true,\"zerolinewidth\":2},\"scene\":{\"xaxis\":{\"backgroundcolor\":\"#E5ECF6\",\"gridcolor\":\"white\",\"linecolor\":\"white\",\"showbackground\":true,\"ticks\":\"\",\"zerolinecolor\":\"white\",\"gridwidth\":2},\"yaxis\":{\"backgroundcolor\":\"#E5ECF6\",\"gridcolor\":\"white\",\"linecolor\":\"white\",\"showbackground\":true,\"ticks\":\"\",\"zerolinecolor\":\"white\",\"gridwidth\":2},\"zaxis\":{\"backgroundcolor\":\"#E5ECF6\",\"gridcolor\":\"white\",\"linecolor\":\"white\",\"showbackground\":true,\"ticks\":\"\",\"zerolinecolor\":\"white\",\"gridwidth\":2}},\"shapedefaults\":{\"line\":{\"color\":\"#2a3f5f\"}},\"annotationdefaults\":{\"arrowcolor\":\"#2a3f5f\",\"arrowhead\":0,\"arrowwidth\":1},\"geo\":{\"bgcolor\":\"white\",\"landcolor\":\"#E5ECF6\",\"subunitcolor\":\"white\",\"showland\":true,\"showlakes\":true,\"lakecolor\":\"white\"},\"title\":{\"x\":0.05},\"mapbox\":{\"style\":\"light\"}}},\"xaxis\":{\"anchor\":\"y\",\"domain\":[0.0,1.0],\"title\":{\"text\":\"Year\"}},\"yaxis\":{\"anchor\":\"x\",\"domain\":[0.0,1.0],\"title\":{\"text\":\"Wickets\"}},\"legend\":{\"tracegroupgap\":0},\"margin\":{\"t\":60}},                        {\"responsive\": true}                    ).then(function(){\n",
       "                            \n",
       "var gd = document.getElementById('0cc52150-1d92-46c6-9a01-de2e53112f14');\n",
       "var x = new MutationObserver(function (mutations, observer) {{\n",
       "        var display = window.getComputedStyle(gd).display;\n",
       "        if (!display || display === 'none') {{\n",
       "            console.log([gd, 'removed!']);\n",
       "            Plotly.purge(gd);\n",
       "            observer.disconnect();\n",
       "        }}\n",
       "}});\n",
       "\n",
       "// Listen for the removal of the full notebook cells\n",
       "var notebookContainer = gd.closest('#notebook-container');\n",
       "if (notebookContainer) {{\n",
       "    x.observe(notebookContainer, {childList: true});\n",
       "}}\n",
       "\n",
       "// Listen for the clearing of the current output cell\n",
       "var outputEl = gd.closest('.output');\n",
       "if (outputEl) {{\n",
       "    x.observe(outputEl, {childList: true});\n",
       "}}\n",
       "\n",
       "                        })                };                });            </script>        </div>"
      ]
     },
     "metadata": {},
     "output_type": "display_data"
    }
   ],
   "source": [
    "fig = px.line(wickets,x='Year',y='Wickets',markers=True)\n",
    "fig.show()"
   ]
  },
  {
   "cell_type": "code",
   "execution_count": 50,
   "id": "24632825",
   "metadata": {},
   "outputs": [
    {
     "data": {
      "text/html": [
       "<div>\n",
       "<style scoped>\n",
       "    .dataframe tbody tr th:only-of-type {\n",
       "        vertical-align: middle;\n",
       "    }\n",
       "\n",
       "    .dataframe tbody tr th {\n",
       "        vertical-align: top;\n",
       "    }\n",
       "\n",
       "    .dataframe thead th {\n",
       "        text-align: right;\n",
       "    }\n",
       "</style>\n",
       "<table border=\"1\" class=\"dataframe\">\n",
       "  <thead>\n",
       "    <tr style=\"text-align: right;\">\n",
       "      <th></th>\n",
       "      <th>Name</th>\n",
       "      <th>PlayerDOB</th>\n",
       "      <th>TotalRuns</th>\n",
       "      <th>Balls</th>\n",
       "      <th>StrikeRate</th>\n",
       "      <th>Fours</th>\n",
       "      <th>Sixes</th>\n",
       "      <th>Outs</th>\n",
       "      <th>NotOuts</th>\n",
       "      <th>FiftyPlusRuns</th>\n",
       "      <th>...</th>\n",
       "      <th>TeamName</th>\n",
       "      <th>Innings</th>\n",
       "      <th>Matches</th>\n",
       "      <th>Nationality</th>\n",
       "      <th>RightHandedBat</th>\n",
       "      <th>Year</th>\n",
       "      <th>Age</th>\n",
       "      <th>IsDismissed</th>\n",
       "      <th>BestBowlingWickets</th>\n",
       "      <th>BestBowlingRuns</th>\n",
       "    </tr>\n",
       "  </thead>\n",
       "  <tbody>\n",
       "    <tr>\n",
       "      <th>0</th>\n",
       "      <td>Shaun Marsh</td>\n",
       "      <td>9-7-1983</td>\n",
       "      <td>616</td>\n",
       "      <td>441.0</td>\n",
       "      <td>139.68</td>\n",
       "      <td>59.0</td>\n",
       "      <td>26.0</td>\n",
       "      <td>9.0</td>\n",
       "      <td>2.0</td>\n",
       "      <td>5.0</td>\n",
       "      <td>...</td>\n",
       "      <td>Punjab Kings</td>\n",
       "      <td>11.0</td>\n",
       "      <td>11.0</td>\n",
       "      <td>Overseas</td>\n",
       "      <td>False</td>\n",
       "      <td>2008</td>\n",
       "      <td>25</td>\n",
       "      <td>Dismissed</td>\n",
       "      <td>0</td>\n",
       "      <td>0</td>\n",
       "    </tr>\n",
       "    <tr>\n",
       "      <th>1</th>\n",
       "      <td>Gautam Gambhir</td>\n",
       "      <td>14-10-1981</td>\n",
       "      <td>534</td>\n",
       "      <td>379.0</td>\n",
       "      <td>140.89</td>\n",
       "      <td>68.0</td>\n",
       "      <td>8.0</td>\n",
       "      <td>13.0</td>\n",
       "      <td>1.0</td>\n",
       "      <td>5.0</td>\n",
       "      <td>...</td>\n",
       "      <td>Delhi Capitals</td>\n",
       "      <td>14.0</td>\n",
       "      <td>14.0</td>\n",
       "      <td>Indian</td>\n",
       "      <td>False</td>\n",
       "      <td>2008</td>\n",
       "      <td>27</td>\n",
       "      <td>Dismissed</td>\n",
       "      <td>0</td>\n",
       "      <td>0</td>\n",
       "    </tr>\n",
       "    <tr>\n",
       "      <th>2</th>\n",
       "      <td>Sanath Jayasuriya</td>\n",
       "      <td>30-6-1969</td>\n",
       "      <td>518</td>\n",
       "      <td>309.0</td>\n",
       "      <td>167.63</td>\n",
       "      <td>58.0</td>\n",
       "      <td>31.0</td>\n",
       "      <td>12.0</td>\n",
       "      <td>2.0</td>\n",
       "      <td>2.0</td>\n",
       "      <td>...</td>\n",
       "      <td>Mumbai Indians</td>\n",
       "      <td>14.0</td>\n",
       "      <td>14.0</td>\n",
       "      <td>Overseas</td>\n",
       "      <td>False</td>\n",
       "      <td>2008</td>\n",
       "      <td>39</td>\n",
       "      <td>Not Dismissed</td>\n",
       "      <td>3</td>\n",
       "      <td>14</td>\n",
       "    </tr>\n",
       "    <tr>\n",
       "      <th>3</th>\n",
       "      <td>Shane Watson</td>\n",
       "      <td>17-6-1981</td>\n",
       "      <td>472</td>\n",
       "      <td>311.0</td>\n",
       "      <td>151.76</td>\n",
       "      <td>47.0</td>\n",
       "      <td>19.0</td>\n",
       "      <td>10.0</td>\n",
       "      <td>5.0</td>\n",
       "      <td>4.0</td>\n",
       "      <td>...</td>\n",
       "      <td>Rajasthan Royals</td>\n",
       "      <td>15.0</td>\n",
       "      <td>15.0</td>\n",
       "      <td>Overseas</td>\n",
       "      <td>True</td>\n",
       "      <td>2008</td>\n",
       "      <td>27</td>\n",
       "      <td>Not Dismissed</td>\n",
       "      <td>4</td>\n",
       "      <td>29</td>\n",
       "    </tr>\n",
       "    <tr>\n",
       "      <th>4</th>\n",
       "      <td>Graeme Smith</td>\n",
       "      <td>1-2-1981</td>\n",
       "      <td>441</td>\n",
       "      <td>362.0</td>\n",
       "      <td>121.82</td>\n",
       "      <td>54.0</td>\n",
       "      <td>8.0</td>\n",
       "      <td>9.0</td>\n",
       "      <td>2.0</td>\n",
       "      <td>3.0</td>\n",
       "      <td>...</td>\n",
       "      <td>Rajasthan Royals</td>\n",
       "      <td>11.0</td>\n",
       "      <td>11.0</td>\n",
       "      <td>Overseas</td>\n",
       "      <td>False</td>\n",
       "      <td>2008</td>\n",
       "      <td>27</td>\n",
       "      <td>Dismissed</td>\n",
       "      <td>0</td>\n",
       "      <td>0</td>\n",
       "    </tr>\n",
       "    <tr>\n",
       "      <th>5</th>\n",
       "      <td>Adam Gilchrist</td>\n",
       "      <td>14-11-1971</td>\n",
       "      <td>436</td>\n",
       "      <td>318.0</td>\n",
       "      <td>137.10</td>\n",
       "      <td>51.0</td>\n",
       "      <td>19.0</td>\n",
       "      <td>13.0</td>\n",
       "      <td>1.0</td>\n",
       "      <td>3.0</td>\n",
       "      <td>...</td>\n",
       "      <td>Punjab Kings</td>\n",
       "      <td>14.0</td>\n",
       "      <td>14.0</td>\n",
       "      <td>Overseas</td>\n",
       "      <td>False</td>\n",
       "      <td>2008</td>\n",
       "      <td>37</td>\n",
       "      <td>Not Dismissed</td>\n",
       "      <td>0</td>\n",
       "      <td>0</td>\n",
       "    </tr>\n",
       "    <tr>\n",
       "      <th>6</th>\n",
       "      <td>Yusuf Pathan</td>\n",
       "      <td>17-11-1982</td>\n",
       "      <td>435</td>\n",
       "      <td>243.0</td>\n",
       "      <td>179.01</td>\n",
       "      <td>43.0</td>\n",
       "      <td>25.0</td>\n",
       "      <td>14.0</td>\n",
       "      <td>1.0</td>\n",
       "      <td>4.0</td>\n",
       "      <td>...</td>\n",
       "      <td>Rajasthan Royals</td>\n",
       "      <td>15.0</td>\n",
       "      <td>16.0</td>\n",
       "      <td>Indian</td>\n",
       "      <td>True</td>\n",
       "      <td>2008</td>\n",
       "      <td>26</td>\n",
       "      <td>Dismissed</td>\n",
       "      <td>3</td>\n",
       "      <td>20</td>\n",
       "    </tr>\n",
       "    <tr>\n",
       "      <th>7</th>\n",
       "      <td>Suresh Raina</td>\n",
       "      <td>27-11-1986</td>\n",
       "      <td>421</td>\n",
       "      <td>296.0</td>\n",
       "      <td>142.22</td>\n",
       "      <td>35.0</td>\n",
       "      <td>18.0</td>\n",
       "      <td>11.0</td>\n",
       "      <td>3.0</td>\n",
       "      <td>3.0</td>\n",
       "      <td>...</td>\n",
       "      <td>Chennai Super Kings</td>\n",
       "      <td>14.0</td>\n",
       "      <td>16.0</td>\n",
       "      <td>Indian</td>\n",
       "      <td>False</td>\n",
       "      <td>2008</td>\n",
       "      <td>22</td>\n",
       "      <td>Not Dismissed</td>\n",
       "      <td>2</td>\n",
       "      <td>0</td>\n",
       "    </tr>\n",
       "    <tr>\n",
       "      <th>8</th>\n",
       "      <td>MS Dhoni</td>\n",
       "      <td>7-7-1981</td>\n",
       "      <td>414</td>\n",
       "      <td>310.0</td>\n",
       "      <td>133.54</td>\n",
       "      <td>38.0</td>\n",
       "      <td>15.0</td>\n",
       "      <td>10.0</td>\n",
       "      <td>4.0</td>\n",
       "      <td>2.0</td>\n",
       "      <td>...</td>\n",
       "      <td>Chennai Super Kings</td>\n",
       "      <td>14.0</td>\n",
       "      <td>16.0</td>\n",
       "      <td>Indian</td>\n",
       "      <td>True</td>\n",
       "      <td>2008</td>\n",
       "      <td>27</td>\n",
       "      <td>Dismissed</td>\n",
       "      <td>0</td>\n",
       "      <td>0</td>\n",
       "    </tr>\n",
       "    <tr>\n",
       "      <th>9</th>\n",
       "      <td>Virender Sehwag</td>\n",
       "      <td>20-10-1978</td>\n",
       "      <td>406</td>\n",
       "      <td>220.0</td>\n",
       "      <td>184.54</td>\n",
       "      <td>46.0</td>\n",
       "      <td>21.0</td>\n",
       "      <td>12.0</td>\n",
       "      <td>2.0</td>\n",
       "      <td>3.0</td>\n",
       "      <td>...</td>\n",
       "      <td>Delhi Capitals</td>\n",
       "      <td>14.0</td>\n",
       "      <td>14.0</td>\n",
       "      <td>Indian</td>\n",
       "      <td>True</td>\n",
       "      <td>2008</td>\n",
       "      <td>30</td>\n",
       "      <td>Not Dismissed</td>\n",
       "      <td>2</td>\n",
       "      <td>18</td>\n",
       "    </tr>\n",
       "    <tr>\n",
       "      <th>10</th>\n",
       "      <td>Rohit Sharma</td>\n",
       "      <td>30-4-1987</td>\n",
       "      <td>404</td>\n",
       "      <td>273.0</td>\n",
       "      <td>147.98</td>\n",
       "      <td>38.0</td>\n",
       "      <td>19.0</td>\n",
       "      <td>11.0</td>\n",
       "      <td>1.0</td>\n",
       "      <td>4.0</td>\n",
       "      <td>...</td>\n",
       "      <td>Deccan Chargers</td>\n",
       "      <td>12.0</td>\n",
       "      <td>13.0</td>\n",
       "      <td>Indian</td>\n",
       "      <td>True</td>\n",
       "      <td>2008</td>\n",
       "      <td>21</td>\n",
       "      <td>Not Dismissed</td>\n",
       "      <td>4</td>\n",
       "      <td>6</td>\n",
       "    </tr>\n",
       "    <tr>\n",
       "      <th>11</th>\n",
       "      <td>Rahul Dravid</td>\n",
       "      <td>11-1-1973</td>\n",
       "      <td>371</td>\n",
       "      <td>298.0</td>\n",
       "      <td>124.49</td>\n",
       "      <td>35.0</td>\n",
       "      <td>11.0</td>\n",
       "      <td>13.0</td>\n",
       "      <td>1.0</td>\n",
       "      <td>2.0</td>\n",
       "      <td>...</td>\n",
       "      <td>Royal Challengers Bangalore</td>\n",
       "      <td>14.0</td>\n",
       "      <td>14.0</td>\n",
       "      <td>Indian</td>\n",
       "      <td>True</td>\n",
       "      <td>2008</td>\n",
       "      <td>35</td>\n",
       "      <td>Not Dismissed</td>\n",
       "      <td>0</td>\n",
       "      <td>0</td>\n",
       "    </tr>\n",
       "    <tr>\n",
       "      <th>12</th>\n",
       "      <td>Sourav Ganguly</td>\n",
       "      <td>8-7-1972</td>\n",
       "      <td>349</td>\n",
       "      <td>307.0</td>\n",
       "      <td>113.68</td>\n",
       "      <td>33.0</td>\n",
       "      <td>15.0</td>\n",
       "      <td>12.0</td>\n",
       "      <td>1.0</td>\n",
       "      <td>3.0</td>\n",
       "      <td>...</td>\n",
       "      <td>Kolkata Knight Riders</td>\n",
       "      <td>13.0</td>\n",
       "      <td>13.0</td>\n",
       "      <td>Indian</td>\n",
       "      <td>False</td>\n",
       "      <td>2008</td>\n",
       "      <td>36</td>\n",
       "      <td>Dismissed</td>\n",
       "      <td>2</td>\n",
       "      <td>21</td>\n",
       "    </tr>\n",
       "    <tr>\n",
       "      <th>13</th>\n",
       "      <td>Shikhar Dhawan</td>\n",
       "      <td>5-12-1985</td>\n",
       "      <td>340</td>\n",
       "      <td>295.0</td>\n",
       "      <td>115.25</td>\n",
       "      <td>35.0</td>\n",
       "      <td>8.0</td>\n",
       "      <td>9.0</td>\n",
       "      <td>5.0</td>\n",
       "      <td>4.0</td>\n",
       "      <td>...</td>\n",
       "      <td>Delhi Capitals</td>\n",
       "      <td>14.0</td>\n",
       "      <td>14.0</td>\n",
       "      <td>Indian</td>\n",
       "      <td>False</td>\n",
       "      <td>2008</td>\n",
       "      <td>23</td>\n",
       "      <td>Not Dismissed</td>\n",
       "      <td>0</td>\n",
       "      <td>0</td>\n",
       "    </tr>\n",
       "    <tr>\n",
       "      <th>14</th>\n",
       "      <td>Kumar Sangakkara</td>\n",
       "      <td>27-10-1977</td>\n",
       "      <td>320</td>\n",
       "      <td>198.0</td>\n",
       "      <td>161.61</td>\n",
       "      <td>41.0</td>\n",
       "      <td>8.0</td>\n",
       "      <td>9.0</td>\n",
       "      <td>0.0</td>\n",
       "      <td>4.0</td>\n",
       "      <td>...</td>\n",
       "      <td>Punjab Kings</td>\n",
       "      <td>9.0</td>\n",
       "      <td>10.0</td>\n",
       "      <td>Overseas</td>\n",
       "      <td>False</td>\n",
       "      <td>2008</td>\n",
       "      <td>31</td>\n",
       "      <td>Dismissed</td>\n",
       "      <td>0</td>\n",
       "      <td>0</td>\n",
       "    </tr>\n",
       "    <tr>\n",
       "      <th>15</th>\n",
       "      <td>Robin Uthappa</td>\n",
       "      <td>11-11-1985</td>\n",
       "      <td>320</td>\n",
       "      <td>279.0</td>\n",
       "      <td>114.69</td>\n",
       "      <td>34.0</td>\n",
       "      <td>9.0</td>\n",
       "      <td>9.0</td>\n",
       "      <td>5.0</td>\n",
       "      <td>0.0</td>\n",
       "      <td>...</td>\n",
       "      <td>Mumbai Indians</td>\n",
       "      <td>14.0</td>\n",
       "      <td>14.0</td>\n",
       "      <td>Indian</td>\n",
       "      <td>True</td>\n",
       "      <td>2008</td>\n",
       "      <td>23</td>\n",
       "      <td>Dismissed</td>\n",
       "      <td>0</td>\n",
       "      <td>0</td>\n",
       "    </tr>\n",
       "    <tr>\n",
       "      <th>16</th>\n",
       "      <td>David Hussey</td>\n",
       "      <td>15-7-1977</td>\n",
       "      <td>319</td>\n",
       "      <td>259.0</td>\n",
       "      <td>123.16</td>\n",
       "      <td>19.0</td>\n",
       "      <td>17.0</td>\n",
       "      <td>11.0</td>\n",
       "      <td>2.0</td>\n",
       "      <td>2.0</td>\n",
       "      <td>...</td>\n",
       "      <td>Kolkata Knight Riders</td>\n",
       "      <td>13.0</td>\n",
       "      <td>13.0</td>\n",
       "      <td>Overseas</td>\n",
       "      <td>True</td>\n",
       "      <td>2008</td>\n",
       "      <td>31</td>\n",
       "      <td>Dismissed</td>\n",
       "      <td>2</td>\n",
       "      <td>2</td>\n",
       "    </tr>\n",
       "    <tr>\n",
       "      <th>17</th>\n",
       "      <td>Swapnil Asnodkar</td>\n",
       "      <td>29-3-1984</td>\n",
       "      <td>311</td>\n",
       "      <td>233.0</td>\n",
       "      <td>133.47</td>\n",
       "      <td>43.0</td>\n",
       "      <td>6.0</td>\n",
       "      <td>9.0</td>\n",
       "      <td>0.0</td>\n",
       "      <td>2.0</td>\n",
       "      <td>...</td>\n",
       "      <td>Rajasthan Royals</td>\n",
       "      <td>9.0</td>\n",
       "      <td>9.0</td>\n",
       "      <td>Indian</td>\n",
       "      <td>True</td>\n",
       "      <td>2008</td>\n",
       "      <td>24</td>\n",
       "      <td>Dismissed</td>\n",
       "      <td>0</td>\n",
       "      <td>0</td>\n",
       "    </tr>\n",
       "    <tr>\n",
       "      <th>18</th>\n",
       "      <td>Parthiv Patel</td>\n",
       "      <td>9-3-1985</td>\n",
       "      <td>302</td>\n",
       "      <td>297.0</td>\n",
       "      <td>101.68</td>\n",
       "      <td>42.0</td>\n",
       "      <td>3.0</td>\n",
       "      <td>11.0</td>\n",
       "      <td>2.0</td>\n",
       "      <td>2.0</td>\n",
       "      <td>...</td>\n",
       "      <td>Chennai Super Kings</td>\n",
       "      <td>13.0</td>\n",
       "      <td>13.0</td>\n",
       "      <td>Indian</td>\n",
       "      <td>False</td>\n",
       "      <td>2008</td>\n",
       "      <td>23</td>\n",
       "      <td>Dismissed</td>\n",
       "      <td>0</td>\n",
       "      <td>0</td>\n",
       "    </tr>\n",
       "    <tr>\n",
       "      <th>19</th>\n",
       "      <td>Yuvraj Singh</td>\n",
       "      <td>12-12-1981</td>\n",
       "      <td>299</td>\n",
       "      <td>184.0</td>\n",
       "      <td>162.50</td>\n",
       "      <td>24.0</td>\n",
       "      <td>19.0</td>\n",
       "      <td>13.0</td>\n",
       "      <td>1.0</td>\n",
       "      <td>1.0</td>\n",
       "      <td>...</td>\n",
       "      <td>Punjab Kings</td>\n",
       "      <td>14.0</td>\n",
       "      <td>15.0</td>\n",
       "      <td>Indian</td>\n",
       "      <td>False</td>\n",
       "      <td>2008</td>\n",
       "      <td>27</td>\n",
       "      <td>Dismissed</td>\n",
       "      <td>4</td>\n",
       "      <td>29</td>\n",
       "    </tr>\n",
       "    <tr>\n",
       "      <th>20</th>\n",
       "      <td>Venugopal Rao</td>\n",
       "      <td>26-2-1982</td>\n",
       "      <td>288</td>\n",
       "      <td>210.0</td>\n",
       "      <td>137.14</td>\n",
       "      <td>22.0</td>\n",
       "      <td>15.0</td>\n",
       "      <td>8.0</td>\n",
       "      <td>2.0</td>\n",
       "      <td>2.0</td>\n",
       "      <td>...</td>\n",
       "      <td>Deccan Chargers</td>\n",
       "      <td>10.0</td>\n",
       "      <td>11.0</td>\n",
       "      <td>Indian</td>\n",
       "      <td>True</td>\n",
       "      <td>2008</td>\n",
       "      <td>26</td>\n",
       "      <td>Not Dismissed</td>\n",
       "      <td>2</td>\n",
       "      <td>23</td>\n",
       "    </tr>\n",
       "    <tr>\n",
       "      <th>21</th>\n",
       "      <td>Albie Morkel</td>\n",
       "      <td>10-6-1981</td>\n",
       "      <td>241</td>\n",
       "      <td>163.0</td>\n",
       "      <td>147.85</td>\n",
       "      <td>18.0</td>\n",
       "      <td>14.0</td>\n",
       "      <td>7.0</td>\n",
       "      <td>3.0</td>\n",
       "      <td>1.0</td>\n",
       "      <td>...</td>\n",
       "      <td>Chennai Super Kings</td>\n",
       "      <td>10.0</td>\n",
       "      <td>13.0</td>\n",
       "      <td>Overseas</td>\n",
       "      <td>False</td>\n",
       "      <td>2008</td>\n",
       "      <td>27</td>\n",
       "      <td>Dismissed</td>\n",
       "      <td>4</td>\n",
       "      <td>32</td>\n",
       "    </tr>\n",
       "    <tr>\n",
       "      <th>22</th>\n",
       "      <td>Mark Boucher</td>\n",
       "      <td>3-12-1976</td>\n",
       "      <td>225</td>\n",
       "      <td>177.0</td>\n",
       "      <td>127.11</td>\n",
       "      <td>24.0</td>\n",
       "      <td>6.0</td>\n",
       "      <td>7.0</td>\n",
       "      <td>3.0</td>\n",
       "      <td>1.0</td>\n",
       "      <td>...</td>\n",
       "      <td>Royal Challengers Bangalore</td>\n",
       "      <td>10.0</td>\n",
       "      <td>10.0</td>\n",
       "      <td>Overseas</td>\n",
       "      <td>True</td>\n",
       "      <td>2008</td>\n",
       "      <td>32</td>\n",
       "      <td>Not Dismissed</td>\n",
       "      <td>0</td>\n",
       "      <td>0</td>\n",
       "    </tr>\n",
       "    <tr>\n",
       "      <th>23</th>\n",
       "      <td>James Hopes</td>\n",
       "      <td>24-10-1978</td>\n",
       "      <td>221</td>\n",
       "      <td>148.0</td>\n",
       "      <td>149.32</td>\n",
       "      <td>27.0</td>\n",
       "      <td>8.0</td>\n",
       "      <td>11.0</td>\n",
       "      <td>0.0</td>\n",
       "      <td>2.0</td>\n",
       "      <td>...</td>\n",
       "      <td>Punjab Kings</td>\n",
       "      <td>11.0</td>\n",
       "      <td>11.0</td>\n",
       "      <td>Overseas</td>\n",
       "      <td>True</td>\n",
       "      <td>2008</td>\n",
       "      <td>30</td>\n",
       "      <td>Dismissed</td>\n",
       "      <td>2</td>\n",
       "      <td>2</td>\n",
       "    </tr>\n",
       "    <tr>\n",
       "      <th>24</th>\n",
       "      <td>Abhishek Nayar</td>\n",
       "      <td>8-10-1983</td>\n",
       "      <td>206</td>\n",
       "      <td>138.0</td>\n",
       "      <td>149.27</td>\n",
       "      <td>16.0</td>\n",
       "      <td>9.0</td>\n",
       "      <td>8.0</td>\n",
       "      <td>2.0</td>\n",
       "      <td>0.0</td>\n",
       "      <td>...</td>\n",
       "      <td>Mumbai Indians</td>\n",
       "      <td>10.0</td>\n",
       "      <td>14.0</td>\n",
       "      <td>Indian</td>\n",
       "      <td>False</td>\n",
       "      <td>2008</td>\n",
       "      <td>25</td>\n",
       "      <td>Not Dismissed</td>\n",
       "      <td>3</td>\n",
       "      <td>13</td>\n",
       "    </tr>\n",
       "    <tr>\n",
       "      <th>25</th>\n",
       "      <td>Jacques Kallis</td>\n",
       "      <td>16-10-1975</td>\n",
       "      <td>199</td>\n",
       "      <td>183.0</td>\n",
       "      <td>108.74</td>\n",
       "      <td>23.0</td>\n",
       "      <td>4.0</td>\n",
       "      <td>11.0</td>\n",
       "      <td>0.0</td>\n",
       "      <td>1.0</td>\n",
       "      <td>...</td>\n",
       "      <td>Royal Challengers Bangalore</td>\n",
       "      <td>11.0</td>\n",
       "      <td>11.0</td>\n",
       "      <td>Overseas</td>\n",
       "      <td>True</td>\n",
       "      <td>2008</td>\n",
       "      <td>33</td>\n",
       "      <td>Dismissed</td>\n",
       "      <td>3</td>\n",
       "      <td>13</td>\n",
       "    </tr>\n",
       "    <tr>\n",
       "      <th>26</th>\n",
       "      <td>Stephen Fleming</td>\n",
       "      <td>1-4-1973</td>\n",
       "      <td>196</td>\n",
       "      <td>164.0</td>\n",
       "      <td>119.51</td>\n",
       "      <td>27.0</td>\n",
       "      <td>3.0</td>\n",
       "      <td>9.0</td>\n",
       "      <td>1.0</td>\n",
       "      <td>0.0</td>\n",
       "      <td>...</td>\n",
       "      <td>Chennai Super Kings</td>\n",
       "      <td>10.0</td>\n",
       "      <td>10.0</td>\n",
       "      <td>Overseas</td>\n",
       "      <td>False</td>\n",
       "      <td>2008</td>\n",
       "      <td>35</td>\n",
       "      <td>Dismissed</td>\n",
       "      <td>0</td>\n",
       "      <td>0</td>\n",
       "    </tr>\n",
       "    <tr>\n",
       "      <th>27</th>\n",
       "      <td>Salman Butt</td>\n",
       "      <td>7-10-1984</td>\n",
       "      <td>193</td>\n",
       "      <td>161.0</td>\n",
       "      <td>119.87</td>\n",
       "      <td>30.0</td>\n",
       "      <td>2.0</td>\n",
       "      <td>7.0</td>\n",
       "      <td>0.0</td>\n",
       "      <td>1.0</td>\n",
       "      <td>...</td>\n",
       "      <td>Kolkata Knight Riders</td>\n",
       "      <td>7.0</td>\n",
       "      <td>7.0</td>\n",
       "      <td>Overseas</td>\n",
       "      <td>False</td>\n",
       "      <td>2008</td>\n",
       "      <td>24</td>\n",
       "      <td>Dismissed</td>\n",
       "      <td>0</td>\n",
       "      <td>0</td>\n",
       "    </tr>\n",
       "    <tr>\n",
       "      <th>28</th>\n",
       "      <td>Subramaniam Badrinath</td>\n",
       "      <td>30-8-1980</td>\n",
       "      <td>192</td>\n",
       "      <td>130.0</td>\n",
       "      <td>147.69</td>\n",
       "      <td>21.0</td>\n",
       "      <td>8.0</td>\n",
       "      <td>6.0</td>\n",
       "      <td>5.0</td>\n",
       "      <td>2.0</td>\n",
       "      <td>...</td>\n",
       "      <td>Chennai Super Kings</td>\n",
       "      <td>11.0</td>\n",
       "      <td>16.0</td>\n",
       "      <td>Indian</td>\n",
       "      <td>True</td>\n",
       "      <td>2008</td>\n",
       "      <td>28</td>\n",
       "      <td>Dismissed</td>\n",
       "      <td>0</td>\n",
       "      <td>0</td>\n",
       "    </tr>\n",
       "    <tr>\n",
       "      <th>29</th>\n",
       "      <td>Matthew Hayden</td>\n",
       "      <td>29-10-1971</td>\n",
       "      <td>189</td>\n",
       "      <td>131.0</td>\n",
       "      <td>144.27</td>\n",
       "      <td>24.0</td>\n",
       "      <td>6.0</td>\n",
       "      <td>3.0</td>\n",
       "      <td>1.0</td>\n",
       "      <td>2.0</td>\n",
       "      <td>...</td>\n",
       "      <td>Chennai Super Kings</td>\n",
       "      <td>4.0</td>\n",
       "      <td>4.0</td>\n",
       "      <td>Overseas</td>\n",
       "      <td>False</td>\n",
       "      <td>2008</td>\n",
       "      <td>37</td>\n",
       "      <td>Dismissed</td>\n",
       "      <td>0</td>\n",
       "      <td>0</td>\n",
       "    </tr>\n",
       "  </tbody>\n",
       "</table>\n",
       "<p>30 rows × 39 columns</p>\n",
       "</div>"
      ],
      "text/plain": [
       "                     Name   PlayerDOB  TotalRuns  Balls  StrikeRate  Fours  \\\n",
       "0             Shaun Marsh    9-7-1983        616  441.0      139.68   59.0   \n",
       "1          Gautam Gambhir  14-10-1981        534  379.0      140.89   68.0   \n",
       "2       Sanath Jayasuriya   30-6-1969        518  309.0      167.63   58.0   \n",
       "3            Shane Watson   17-6-1981        472  311.0      151.76   47.0   \n",
       "4            Graeme Smith    1-2-1981        441  362.0      121.82   54.0   \n",
       "5          Adam Gilchrist  14-11-1971        436  318.0      137.10   51.0   \n",
       "6            Yusuf Pathan  17-11-1982        435  243.0      179.01   43.0   \n",
       "7            Suresh Raina  27-11-1986        421  296.0      142.22   35.0   \n",
       "8                MS Dhoni    7-7-1981        414  310.0      133.54   38.0   \n",
       "9         Virender Sehwag  20-10-1978        406  220.0      184.54   46.0   \n",
       "10           Rohit Sharma   30-4-1987        404  273.0      147.98   38.0   \n",
       "11           Rahul Dravid   11-1-1973        371  298.0      124.49   35.0   \n",
       "12         Sourav Ganguly    8-7-1972        349  307.0      113.68   33.0   \n",
       "13         Shikhar Dhawan   5-12-1985        340  295.0      115.25   35.0   \n",
       "14       Kumar Sangakkara  27-10-1977        320  198.0      161.61   41.0   \n",
       "15          Robin Uthappa  11-11-1985        320  279.0      114.69   34.0   \n",
       "16           David Hussey   15-7-1977        319  259.0      123.16   19.0   \n",
       "17       Swapnil Asnodkar   29-3-1984        311  233.0      133.47   43.0   \n",
       "18          Parthiv Patel    9-3-1985        302  297.0      101.68   42.0   \n",
       "19           Yuvraj Singh  12-12-1981        299  184.0      162.50   24.0   \n",
       "20          Venugopal Rao   26-2-1982        288  210.0      137.14   22.0   \n",
       "21           Albie Morkel   10-6-1981        241  163.0      147.85   18.0   \n",
       "22           Mark Boucher   3-12-1976        225  177.0      127.11   24.0   \n",
       "23            James Hopes  24-10-1978        221  148.0      149.32   27.0   \n",
       "24         Abhishek Nayar   8-10-1983        206  138.0      149.27   16.0   \n",
       "25         Jacques Kallis  16-10-1975        199  183.0      108.74   23.0   \n",
       "26        Stephen Fleming    1-4-1973        196  164.0      119.51   27.0   \n",
       "27            Salman Butt   7-10-1984        193  161.0      119.87   30.0   \n",
       "28  Subramaniam Badrinath   30-8-1980        192  130.0      147.69   21.0   \n",
       "29         Matthew Hayden  29-10-1971        189  131.0      144.27   24.0   \n",
       "\n",
       "    Sixes  Outs  NotOuts  FiftyPlusRuns  ...                     TeamName  \\\n",
       "0    26.0   9.0      2.0            5.0  ...                 Punjab Kings   \n",
       "1     8.0  13.0      1.0            5.0  ...               Delhi Capitals   \n",
       "2    31.0  12.0      2.0            2.0  ...               Mumbai Indians   \n",
       "3    19.0  10.0      5.0            4.0  ...             Rajasthan Royals   \n",
       "4     8.0   9.0      2.0            3.0  ...             Rajasthan Royals   \n",
       "5    19.0  13.0      1.0            3.0  ...                 Punjab Kings   \n",
       "6    25.0  14.0      1.0            4.0  ...             Rajasthan Royals   \n",
       "7    18.0  11.0      3.0            3.0  ...          Chennai Super Kings   \n",
       "8    15.0  10.0      4.0            2.0  ...          Chennai Super Kings   \n",
       "9    21.0  12.0      2.0            3.0  ...               Delhi Capitals   \n",
       "10   19.0  11.0      1.0            4.0  ...              Deccan Chargers   \n",
       "11   11.0  13.0      1.0            2.0  ...  Royal Challengers Bangalore   \n",
       "12   15.0  12.0      1.0            3.0  ...        Kolkata Knight Riders   \n",
       "13    8.0   9.0      5.0            4.0  ...               Delhi Capitals   \n",
       "14    8.0   9.0      0.0            4.0  ...                 Punjab Kings   \n",
       "15    9.0   9.0      5.0            0.0  ...               Mumbai Indians   \n",
       "16   17.0  11.0      2.0            2.0  ...        Kolkata Knight Riders   \n",
       "17    6.0   9.0      0.0            2.0  ...             Rajasthan Royals   \n",
       "18    3.0  11.0      2.0            2.0  ...          Chennai Super Kings   \n",
       "19   19.0  13.0      1.0            1.0  ...                 Punjab Kings   \n",
       "20   15.0   8.0      2.0            2.0  ...              Deccan Chargers   \n",
       "21   14.0   7.0      3.0            1.0  ...          Chennai Super Kings   \n",
       "22    6.0   7.0      3.0            1.0  ...  Royal Challengers Bangalore   \n",
       "23    8.0  11.0      0.0            2.0  ...                 Punjab Kings   \n",
       "24    9.0   8.0      2.0            0.0  ...               Mumbai Indians   \n",
       "25    4.0  11.0      0.0            1.0  ...  Royal Challengers Bangalore   \n",
       "26    3.0   9.0      1.0            0.0  ...          Chennai Super Kings   \n",
       "27    2.0   7.0      0.0            1.0  ...        Kolkata Knight Riders   \n",
       "28    8.0   6.0      5.0            2.0  ...          Chennai Super Kings   \n",
       "29    6.0   3.0      1.0            2.0  ...          Chennai Super Kings   \n",
       "\n",
       "    Innings Matches Nationality RightHandedBat  Year  Age    IsDismissed  \\\n",
       "0      11.0    11.0    Overseas          False  2008   25      Dismissed   \n",
       "1      14.0    14.0      Indian          False  2008   27      Dismissed   \n",
       "2      14.0    14.0    Overseas          False  2008   39  Not Dismissed   \n",
       "3      15.0    15.0    Overseas           True  2008   27  Not Dismissed   \n",
       "4      11.0    11.0    Overseas          False  2008   27      Dismissed   \n",
       "5      14.0    14.0    Overseas          False  2008   37  Not Dismissed   \n",
       "6      15.0    16.0      Indian           True  2008   26      Dismissed   \n",
       "7      14.0    16.0      Indian          False  2008   22  Not Dismissed   \n",
       "8      14.0    16.0      Indian           True  2008   27      Dismissed   \n",
       "9      14.0    14.0      Indian           True  2008   30  Not Dismissed   \n",
       "10     12.0    13.0      Indian           True  2008   21  Not Dismissed   \n",
       "11     14.0    14.0      Indian           True  2008   35  Not Dismissed   \n",
       "12     13.0    13.0      Indian          False  2008   36      Dismissed   \n",
       "13     14.0    14.0      Indian          False  2008   23  Not Dismissed   \n",
       "14      9.0    10.0    Overseas          False  2008   31      Dismissed   \n",
       "15     14.0    14.0      Indian           True  2008   23      Dismissed   \n",
       "16     13.0    13.0    Overseas           True  2008   31      Dismissed   \n",
       "17      9.0     9.0      Indian           True  2008   24      Dismissed   \n",
       "18     13.0    13.0      Indian          False  2008   23      Dismissed   \n",
       "19     14.0    15.0      Indian          False  2008   27      Dismissed   \n",
       "20     10.0    11.0      Indian           True  2008   26  Not Dismissed   \n",
       "21     10.0    13.0    Overseas          False  2008   27      Dismissed   \n",
       "22     10.0    10.0    Overseas           True  2008   32  Not Dismissed   \n",
       "23     11.0    11.0    Overseas           True  2008   30      Dismissed   \n",
       "24     10.0    14.0      Indian          False  2008   25  Not Dismissed   \n",
       "25     11.0    11.0    Overseas           True  2008   33      Dismissed   \n",
       "26     10.0    10.0    Overseas          False  2008   35      Dismissed   \n",
       "27      7.0     7.0    Overseas          False  2008   24      Dismissed   \n",
       "28     11.0    16.0      Indian           True  2008   28      Dismissed   \n",
       "29      4.0     4.0    Overseas          False  2008   37      Dismissed   \n",
       "\n",
       "    BestBowlingWickets  BestBowlingRuns  \n",
       "0                    0                0  \n",
       "1                    0                0  \n",
       "2                    3               14  \n",
       "3                    4               29  \n",
       "4                    0                0  \n",
       "5                    0                0  \n",
       "6                    3               20  \n",
       "7                    2                0  \n",
       "8                    0                0  \n",
       "9                    2               18  \n",
       "10                   4                6  \n",
       "11                   0                0  \n",
       "12                   2               21  \n",
       "13                   0                0  \n",
       "14                   0                0  \n",
       "15                   0                0  \n",
       "16                   2                2  \n",
       "17                   0                0  \n",
       "18                   0                0  \n",
       "19                   4               29  \n",
       "20                   2               23  \n",
       "21                   4               32  \n",
       "22                   0                0  \n",
       "23                   2                2  \n",
       "24                   3               13  \n",
       "25                   3               13  \n",
       "26                   0                0  \n",
       "27                   0                0  \n",
       "28                   0                0  \n",
       "29                   0                0  \n",
       "\n",
       "[30 rows x 39 columns]"
      ]
     },
     "execution_count": 50,
     "metadata": {},
     "output_type": "execute_result"
    }
   ],
   "source": [
    "player_data.head(30)"
   ]
  },
  {
   "cell_type": "code",
   "execution_count": 59,
   "id": "987b83be",
   "metadata": {
    "scrolled": true
   },
   "outputs": [],
   "source": [
    "player_data['IsDismissed'] = player_data['IsDismissed'].map({'Not Dismissed':1,'Dismissed':0})"
   ]
  },
  {
   "cell_type": "code",
   "execution_count": 61,
   "id": "2fbeaec8",
   "metadata": {},
   "outputs": [
    {
     "data": {
      "text/plain": [
       "0       0.0\n",
       "1       0.0\n",
       "2       1.0\n",
       "3       1.0\n",
       "4       0.0\n",
       "       ... \n",
       "2577   -1.0\n",
       "2578   -1.0\n",
       "2579   -1.0\n",
       "2580   -1.0\n",
       "2581   -1.0\n",
       "Name: IsNotDismissed, Length: 2582, dtype: float64"
      ]
     },
     "execution_count": 61,
     "metadata": {},
     "output_type": "execute_result"
    }
   ],
   "source": [
    "player_data.rename(columns={'IsDismissed':'IsNotDismissed'},inplace=True)\n",
    "player_data['IsNotDismissed'].fillna(-1,inplace=True)\n",
    "player_data['IsNotDismissed']"
   ]
  },
  {
   "cell_type": "markdown",
   "id": "75c43f4b",
   "metadata": {},
   "source": [
    "## IMPORTANT"
   ]
  },
  {
   "cell_type": "code",
   "execution_count": 91,
   "id": "b6fce1a0",
   "metadata": {},
   "outputs": [],
   "source": [
    "player_data.HighestScore[player_data.IsNotDismissed == -1] = -1"
   ]
  },
  {
   "cell_type": "code",
   "execution_count": 94,
   "id": "d81b7dd0",
   "metadata": {},
   "outputs": [
    {
     "data": {
      "text/html": [
       "<div>\n",
       "<style scoped>\n",
       "    .dataframe tbody tr th:only-of-type {\n",
       "        vertical-align: middle;\n",
       "    }\n",
       "\n",
       "    .dataframe tbody tr th {\n",
       "        vertical-align: top;\n",
       "    }\n",
       "\n",
       "    .dataframe thead th {\n",
       "        text-align: right;\n",
       "    }\n",
       "</style>\n",
       "<table border=\"1\" class=\"dataframe\">\n",
       "  <thead>\n",
       "    <tr style=\"text-align: right;\">\n",
       "      <th></th>\n",
       "      <th>HighestScore</th>\n",
       "      <th>IsNotDismissed</th>\n",
       "    </tr>\n",
       "  </thead>\n",
       "  <tbody>\n",
       "    <tr>\n",
       "      <th>0</th>\n",
       "      <td>115</td>\n",
       "      <td>0.0</td>\n",
       "    </tr>\n",
       "    <tr>\n",
       "      <th>1</th>\n",
       "      <td>86</td>\n",
       "      <td>0.0</td>\n",
       "    </tr>\n",
       "    <tr>\n",
       "      <th>2</th>\n",
       "      <td>114</td>\n",
       "      <td>1.0</td>\n",
       "    </tr>\n",
       "    <tr>\n",
       "      <th>3</th>\n",
       "      <td>76</td>\n",
       "      <td>1.0</td>\n",
       "    </tr>\n",
       "    <tr>\n",
       "      <th>4</th>\n",
       "      <td>91</td>\n",
       "      <td>0.0</td>\n",
       "    </tr>\n",
       "    <tr>\n",
       "      <th>...</th>\n",
       "      <td>...</td>\n",
       "      <td>...</td>\n",
       "    </tr>\n",
       "    <tr>\n",
       "      <th>2577</th>\n",
       "      <td>-1</td>\n",
       "      <td>-1.0</td>\n",
       "    </tr>\n",
       "    <tr>\n",
       "      <th>2578</th>\n",
       "      <td>-1</td>\n",
       "      <td>-1.0</td>\n",
       "    </tr>\n",
       "    <tr>\n",
       "      <th>2579</th>\n",
       "      <td>-1</td>\n",
       "      <td>-1.0</td>\n",
       "    </tr>\n",
       "    <tr>\n",
       "      <th>2580</th>\n",
       "      <td>-1</td>\n",
       "      <td>-1.0</td>\n",
       "    </tr>\n",
       "    <tr>\n",
       "      <th>2581</th>\n",
       "      <td>-1</td>\n",
       "      <td>-1.0</td>\n",
       "    </tr>\n",
       "  </tbody>\n",
       "</table>\n",
       "<p>2582 rows × 2 columns</p>\n",
       "</div>"
      ],
      "text/plain": [
       "      HighestScore  IsNotDismissed\n",
       "0              115             0.0\n",
       "1               86             0.0\n",
       "2              114             1.0\n",
       "3               76             1.0\n",
       "4               91             0.0\n",
       "...            ...             ...\n",
       "2577            -1            -1.0\n",
       "2578            -1            -1.0\n",
       "2579            -1            -1.0\n",
       "2580            -1            -1.0\n",
       "2581            -1            -1.0\n",
       "\n",
       "[2582 rows x 2 columns]"
      ]
     },
     "execution_count": 94,
     "metadata": {},
     "output_type": "execute_result"
    }
   ],
   "source": [
    "player_data[['HighestScore','IsNotDismissed']]"
   ]
  },
  {
   "cell_type": "code",
   "execution_count": 96,
   "id": "1724b78e",
   "metadata": {},
   "outputs": [],
   "source": [
    "def asterisk(notout):\n",
    "    if notout == 1:\n",
    "        return '*'\n",
    "    elif notout == 0:\n",
    "        return ''\n",
    "    else:\n",
    "        return 'A'"
   ]
  },
  {
   "cell_type": "code",
   "execution_count": 100,
   "id": "14edfb8b",
   "metadata": {},
   "outputs": [],
   "source": [
    "player_data['BestScore'] = player_data.HighestScore.apply(lambda x: 'N' if x == -1 else str(x)) + player_data.IsNotDismissed.apply(asterisk)"
   ]
  },
  {
   "cell_type": "code",
   "execution_count": 117,
   "id": "7707a67b",
   "metadata": {
    "scrolled": false
   },
   "outputs": [
    {
     "data": {
      "text/html": [
       "<div>\n",
       "<style scoped>\n",
       "    .dataframe tbody tr th:only-of-type {\n",
       "        vertical-align: middle;\n",
       "    }\n",
       "\n",
       "    .dataframe tbody tr th {\n",
       "        vertical-align: top;\n",
       "    }\n",
       "\n",
       "    .dataframe thead th {\n",
       "        text-align: right;\n",
       "    }\n",
       "</style>\n",
       "<table border=\"1\" class=\"dataframe\">\n",
       "  <thead>\n",
       "    <tr style=\"text-align: right;\">\n",
       "      <th></th>\n",
       "      <th>HighestScore</th>\n",
       "      <th>IsNotDismissed</th>\n",
       "      <th>BestScore</th>\n",
       "    </tr>\n",
       "  </thead>\n",
       "  <tbody>\n",
       "    <tr>\n",
       "      <th>1743</th>\n",
       "      <td>84</td>\n",
       "      <td>1.0</td>\n",
       "      <td>84*</td>\n",
       "    </tr>\n",
       "    <tr>\n",
       "      <th>1598</th>\n",
       "      <td>79</td>\n",
       "      <td>1.0</td>\n",
       "      <td>79*</td>\n",
       "    </tr>\n",
       "    <tr>\n",
       "      <th>476</th>\n",
       "      <td>70</td>\n",
       "      <td>1.0</td>\n",
       "      <td>70*</td>\n",
       "    </tr>\n",
       "    <tr>\n",
       "      <th>831</th>\n",
       "      <td>67</td>\n",
       "      <td>1.0</td>\n",
       "      <td>67*</td>\n",
       "    </tr>\n",
       "    <tr>\n",
       "      <th>316</th>\n",
       "      <td>66</td>\n",
       "      <td>1.0</td>\n",
       "      <td>66*</td>\n",
       "    </tr>\n",
       "    <tr>\n",
       "      <th>8</th>\n",
       "      <td>65</td>\n",
       "      <td>0.0</td>\n",
       "      <td>65</td>\n",
       "    </tr>\n",
       "    <tr>\n",
       "      <th>1454</th>\n",
       "      <td>64</td>\n",
       "      <td>1.0</td>\n",
       "      <td>64*</td>\n",
       "    </tr>\n",
       "    <tr>\n",
       "      <th>169</th>\n",
       "      <td>58</td>\n",
       "      <td>1.0</td>\n",
       "      <td>58*</td>\n",
       "    </tr>\n",
       "    <tr>\n",
       "      <th>1024</th>\n",
       "      <td>57</td>\n",
       "      <td>1.0</td>\n",
       "      <td>57*</td>\n",
       "    </tr>\n",
       "    <tr>\n",
       "      <th>1170</th>\n",
       "      <td>53</td>\n",
       "      <td>0.0</td>\n",
       "      <td>53</td>\n",
       "    </tr>\n",
       "    <tr>\n",
       "      <th>1309</th>\n",
       "      <td>53</td>\n",
       "      <td>0.0</td>\n",
       "      <td>53</td>\n",
       "    </tr>\n",
       "    <tr>\n",
       "      <th>664</th>\n",
       "      <td>51</td>\n",
       "      <td>1.0</td>\n",
       "      <td>51*</td>\n",
       "    </tr>\n",
       "    <tr>\n",
       "      <th>2240</th>\n",
       "      <td>50</td>\n",
       "      <td>1.0</td>\n",
       "      <td>50*</td>\n",
       "    </tr>\n",
       "    <tr>\n",
       "      <th>1930</th>\n",
       "      <td>47</td>\n",
       "      <td>1.0</td>\n",
       "      <td>47*</td>\n",
       "    </tr>\n",
       "    <tr>\n",
       "      <th>2456</th>\n",
       "      <td>32</td>\n",
       "      <td>1.0</td>\n",
       "      <td>32*</td>\n",
       "    </tr>\n",
       "    <tr>\n",
       "      <th>2088</th>\n",
       "      <td>18</td>\n",
       "      <td>1.0</td>\n",
       "      <td>18*</td>\n",
       "    </tr>\n",
       "  </tbody>\n",
       "</table>\n",
       "</div>"
      ],
      "text/plain": [
       "      HighestScore  IsNotDismissed BestScore\n",
       "1743            84             1.0       84*\n",
       "1598            79             1.0       79*\n",
       "476             70             1.0       70*\n",
       "831             67             1.0       67*\n",
       "316             66             1.0       66*\n",
       "8               65             0.0        65\n",
       "1454            64             1.0       64*\n",
       "169             58             1.0       58*\n",
       "1024            57             1.0       57*\n",
       "1170            53             0.0        53\n",
       "1309            53             0.0        53\n",
       "664             51             1.0       51*\n",
       "2240            50             1.0       50*\n",
       "1930            47             1.0       47*\n",
       "2456            32             1.0       32*\n",
       "2088            18             1.0       18*"
      ]
     },
     "execution_count": 117,
     "metadata": {},
     "output_type": "execute_result"
    }
   ],
   "source": [
    "player_data[player_data['Name'] == name][['HighestScore','IsNotDismissed','BestScore']].sort_values(['HighestScore','IsNotDismissed'],ascending=[False,False])"
   ]
  },
  {
   "cell_type": "code",
   "execution_count": 114,
   "id": "320388fb",
   "metadata": {
    "scrolled": true
   },
   "outputs": [
    {
     "data": {
      "text/plain": [
       "'84*'"
      ]
     },
     "execution_count": 114,
     "metadata": {},
     "output_type": "execute_result"
    }
   ],
   "source": [
    "player_data[player_data['Name'] == name][['HighestScore','IsNotDismissed','BestScore']].max().loc['BestScore']"
   ]
  },
  {
   "cell_type": "code",
   "execution_count": 118,
   "id": "0e2906d0",
   "metadata": {},
   "outputs": [],
   "source": [
    "player_data.to_csv('seasonwise/for_all_seasons_2.csv',index=False)"
   ]
  }
 ],
 "metadata": {
  "kernelspec": {
   "display_name": "Python 3 (ipykernel)",
   "language": "python",
   "name": "python3"
  },
  "language_info": {
   "codemirror_mode": {
    "name": "ipython",
    "version": 3
   },
   "file_extension": ".py",
   "mimetype": "text/x-python",
   "name": "python",
   "nbconvert_exporter": "python",
   "pygments_lexer": "ipython3",
   "version": "3.10.9"
  }
 },
 "nbformat": 4,
 "nbformat_minor": 5
}
